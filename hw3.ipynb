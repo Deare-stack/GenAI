{
  "nbformat": 4,
  "nbformat_minor": 0,
  "metadata": {
    "colab": {
      "provenance": [],
      "gpuType": "V28",
      "authorship_tag": "ABX9TyP+/+/61C8r7l/SYwitYUia",
      "include_colab_link": true
    },
    "kernelspec": {
      "name": "python3",
      "display_name": "Python 3"
    },
    "language_info": {
      "name": "python"
    },
    "accelerator": "TPU"
  },
  "cells": [
    {
      "cell_type": "markdown",
      "metadata": {
        "id": "view-in-github",
        "colab_type": "text"
      },
      "source": [
        "<a href=\"https://colab.research.google.com/github/Deare-stack/GenAI/blob/main/hw3.ipynb\" target=\"_parent\"><img src=\"https://colab.research.google.com/assets/colab-badge.svg\" alt=\"Open In Colab\"/></a>"
      ]
    },
    {
      "cell_type": "code",
      "execution_count": null,
      "metadata": {
        "colab": {
          "base_uri": "https://localhost:8080/"
        },
        "id": "8ik0Xs1R6RDs",
        "outputId": "0cc60891-a181-46aa-811e-23a303051c78"
      },
      "outputs": [
        {
          "output_type": "stream",
          "name": "stdout",
          "text": [
            "Requirement already satisfied: tensorflow in /usr/local/lib/python3.10/dist-packages (2.15.0)\n",
            "Requirement already satisfied: numpy in /usr/local/lib/python3.10/dist-packages (1.26.4)\n",
            "Requirement already satisfied: scipy in /usr/local/lib/python3.10/dist-packages (1.13.1)\n",
            "Requirement already satisfied: pillow in /usr/local/lib/python3.10/dist-packages (10.4.0)\n",
            "Requirement already satisfied: matplotlib in /usr/local/lib/python3.10/dist-packages (3.7.1)\n",
            "Requirement already satisfied: absl-py>=1.0.0 in /usr/local/lib/python3.10/dist-packages (from tensorflow) (1.4.0)\n",
            "Requirement already satisfied: astunparse>=1.6.0 in /usr/local/lib/python3.10/dist-packages (from tensorflow) (1.6.3)\n",
            "Requirement already satisfied: flatbuffers>=23.5.26 in /usr/local/lib/python3.10/dist-packages (from tensorflow) (24.3.25)\n",
            "Requirement already satisfied: gast!=0.5.0,!=0.5.1,!=0.5.2,>=0.2.1 in /usr/local/lib/python3.10/dist-packages (from tensorflow) (0.6.0)\n",
            "Requirement already satisfied: google-pasta>=0.1.1 in /usr/local/lib/python3.10/dist-packages (from tensorflow) (0.2.0)\n",
            "Requirement already satisfied: h5py>=2.9.0 in /usr/local/lib/python3.10/dist-packages (from tensorflow) (3.12.1)\n",
            "Requirement already satisfied: libclang>=13.0.0 in /usr/local/lib/python3.10/dist-packages (from tensorflow) (18.1.1)\n",
            "Requirement already satisfied: ml-dtypes~=0.2.0 in /usr/local/lib/python3.10/dist-packages (from tensorflow) (0.2.0)\n",
            "Requirement already satisfied: opt-einsum>=2.3.2 in /usr/local/lib/python3.10/dist-packages (from tensorflow) (3.4.0)\n",
            "Requirement already satisfied: packaging in /usr/local/lib/python3.10/dist-packages (from tensorflow) (24.1)\n",
            "Requirement already satisfied: protobuf!=4.21.0,!=4.21.1,!=4.21.2,!=4.21.3,!=4.21.4,!=4.21.5,<5.0.0dev,>=3.20.3 in /usr/local/lib/python3.10/dist-packages (from tensorflow) (3.20.3)\n",
            "Requirement already satisfied: setuptools in /usr/local/lib/python3.10/dist-packages (from tensorflow) (71.0.4)\n",
            "Requirement already satisfied: six>=1.12.0 in /usr/local/lib/python3.10/dist-packages (from tensorflow) (1.16.0)\n",
            "Requirement already satisfied: termcolor>=1.1.0 in /usr/local/lib/python3.10/dist-packages (from tensorflow) (2.4.0)\n",
            "Requirement already satisfied: typing-extensions>=3.6.6 in /usr/local/lib/python3.10/dist-packages (from tensorflow) (4.12.2)\n",
            "Requirement already satisfied: wrapt<1.15,>=1.11.0 in /usr/local/lib/python3.10/dist-packages (from tensorflow) (1.14.1)\n",
            "Requirement already satisfied: tensorflow-io-gcs-filesystem>=0.23.1 in /usr/local/lib/python3.10/dist-packages (from tensorflow) (0.37.1)\n",
            "Requirement already satisfied: grpcio<2.0,>=1.24.3 in /usr/local/lib/python3.10/dist-packages (from tensorflow) (1.66.2)\n",
            "Requirement already satisfied: tensorboard<2.16,>=2.15 in /usr/local/lib/python3.10/dist-packages (from tensorflow) (2.15.2)\n",
            "Requirement already satisfied: tensorflow-estimator<2.16,>=2.15.0 in /usr/local/lib/python3.10/dist-packages (from tensorflow) (2.15.0)\n",
            "Requirement already satisfied: keras<2.16,>=2.15.0 in /usr/local/lib/python3.10/dist-packages (from tensorflow) (2.15.0)\n",
            "Requirement already satisfied: contourpy>=1.0.1 in /usr/local/lib/python3.10/dist-packages (from matplotlib) (1.3.0)\n",
            "Requirement already satisfied: cycler>=0.10 in /usr/local/lib/python3.10/dist-packages (from matplotlib) (0.12.1)\n",
            "Requirement already satisfied: fonttools>=4.22.0 in /usr/local/lib/python3.10/dist-packages (from matplotlib) (4.54.1)\n",
            "Requirement already satisfied: kiwisolver>=1.0.1 in /usr/local/lib/python3.10/dist-packages (from matplotlib) (1.4.7)\n",
            "Requirement already satisfied: pyparsing>=2.3.1 in /usr/local/lib/python3.10/dist-packages (from matplotlib) (3.1.4)\n",
            "Requirement already satisfied: python-dateutil>=2.7 in /usr/local/lib/python3.10/dist-packages (from matplotlib) (2.9.0.post0)\n",
            "Requirement already satisfied: wheel<1.0,>=0.23.0 in /usr/local/lib/python3.10/dist-packages (from astunparse>=1.6.0->tensorflow) (0.44.0)\n",
            "Requirement already satisfied: google-auth<3,>=1.6.3 in /usr/local/lib/python3.10/dist-packages (from tensorboard<2.16,>=2.15->tensorflow) (2.27.0)\n",
            "Requirement already satisfied: google-auth-oauthlib<2,>=0.5 in /usr/local/lib/python3.10/dist-packages (from tensorboard<2.16,>=2.15->tensorflow) (1.2.1)\n",
            "Requirement already satisfied: markdown>=2.6.8 in /usr/local/lib/python3.10/dist-packages (from tensorboard<2.16,>=2.15->tensorflow) (3.7)\n",
            "Requirement already satisfied: requests<3,>=2.21.0 in /usr/local/lib/python3.10/dist-packages (from tensorboard<2.16,>=2.15->tensorflow) (2.32.3)\n",
            "Requirement already satisfied: tensorboard-data-server<0.8.0,>=0.7.0 in /usr/local/lib/python3.10/dist-packages (from tensorboard<2.16,>=2.15->tensorflow) (0.7.2)\n",
            "Requirement already satisfied: werkzeug>=1.0.1 in /usr/local/lib/python3.10/dist-packages (from tensorboard<2.16,>=2.15->tensorflow) (3.0.4)\n",
            "Requirement already satisfied: cachetools<6.0,>=2.0.0 in /usr/local/lib/python3.10/dist-packages (from google-auth<3,>=1.6.3->tensorboard<2.16,>=2.15->tensorflow) (5.5.0)\n",
            "Requirement already satisfied: pyasn1-modules>=0.2.1 in /usr/local/lib/python3.10/dist-packages (from google-auth<3,>=1.6.3->tensorboard<2.16,>=2.15->tensorflow) (0.4.1)\n",
            "Requirement already satisfied: rsa<5,>=3.1.4 in /usr/local/lib/python3.10/dist-packages (from google-auth<3,>=1.6.3->tensorboard<2.16,>=2.15->tensorflow) (4.9)\n",
            "Requirement already satisfied: requests-oauthlib>=0.7.0 in /usr/local/lib/python3.10/dist-packages (from google-auth-oauthlib<2,>=0.5->tensorboard<2.16,>=2.15->tensorflow) (2.0.0)\n",
            "Requirement already satisfied: charset-normalizer<4,>=2 in /usr/local/lib/python3.10/dist-packages (from requests<3,>=2.21.0->tensorboard<2.16,>=2.15->tensorflow) (3.3.2)\n",
            "Requirement already satisfied: idna<4,>=2.5 in /usr/local/lib/python3.10/dist-packages (from requests<3,>=2.21.0->tensorboard<2.16,>=2.15->tensorflow) (3.10)\n",
            "Requirement already satisfied: urllib3<3,>=1.21.1 in /usr/local/lib/python3.10/dist-packages (from requests<3,>=2.21.0->tensorboard<2.16,>=2.15->tensorflow) (2.2.3)\n",
            "Requirement already satisfied: certifi>=2017.4.17 in /usr/local/lib/python3.10/dist-packages (from requests<3,>=2.21.0->tensorboard<2.16,>=2.15->tensorflow) (2024.8.30)\n",
            "Requirement already satisfied: MarkupSafe>=2.1.1 in /usr/local/lib/python3.10/dist-packages (from werkzeug>=1.0.1->tensorboard<2.16,>=2.15->tensorflow) (2.1.5)\n",
            "Requirement already satisfied: pyasn1<0.7.0,>=0.4.6 in /usr/local/lib/python3.10/dist-packages (from pyasn1-modules>=0.2.1->google-auth<3,>=1.6.3->tensorboard<2.16,>=2.15->tensorflow) (0.6.1)\n",
            "Requirement already satisfied: oauthlib>=3.0.0 in /usr/local/lib/python3.10/dist-packages (from requests-oauthlib>=0.7.0->google-auth-oauthlib<2,>=0.5->tensorboard<2.16,>=2.15->tensorflow) (3.2.2)\n",
            "--2024-10-06 22:21:04--  http://ufldl.stanford.edu/housenumbers/train_32x32.mat\n",
            "Resolving ufldl.stanford.edu (ufldl.stanford.edu)... 171.64.68.10\n",
            "Connecting to ufldl.stanford.edu (ufldl.stanford.edu)|171.64.68.10|:80... connected.\n",
            "HTTP request sent, awaiting response... 200 OK\n",
            "Length: 182040794 (174M) [text/plain]\n",
            "Saving to: ‘train_32x32.mat’\n",
            "\n",
            "train_32x32.mat     100%[===================>] 173.61M  17.6MB/s    in 10s     \n",
            "\n",
            "2024-10-06 22:21:14 (17.3 MB/s) - ‘train_32x32.mat’ saved [182040794/182040794]\n",
            "\n",
            "--2024-10-06 22:21:14--  http://ufldl.stanford.edu/housenumbers/test_32x32.mat\n",
            "Resolving ufldl.stanford.edu (ufldl.stanford.edu)... 171.64.68.10\n",
            "Connecting to ufldl.stanford.edu (ufldl.stanford.edu)|171.64.68.10|:80... connected.\n",
            "HTTP request sent, awaiting response... 200 OK\n",
            "Length: 64275384 (61M) [text/plain]\n",
            "Saving to: ‘test_32x32.mat’\n",
            "\n",
            "test_32x32.mat      100%[===================>]  61.30M  16.3MB/s    in 4.8s    \n",
            "\n",
            "2024-10-06 22:21:19 (12.7 MB/s) - ‘test_32x32.mat’ saved [64275384/64275384]\n",
            "\n"
          ]
        }
      ],
      "source": [
        "### Deare\n",
        "### 2024/10/6\n",
        "### Assignment 3\n",
        "\n",
        "### Install essential Python libraries for machine learning and data processing,\n",
        "##and download the SVHN dataset for model training and testing.\n",
        "!pip install tensorflow numpy scipy pillow matplotlib\n",
        "!wget http://ufldl.stanford.edu/housenumbers/train_32x32.mat\n",
        "!wget http://ufldl.stanford.edu/housenumbers/test_32x32.mat"
      ]
    },
    {
      "cell_type": "code",
      "source": [
        "from scipy.io import loadmat  # Import the function 'loadmat' from the 'scipy.io' module to enable loading MATLAB files.\n",
        "import numpy as np  # Import the 'numpy' library, often used for numerical operations, under the alias 'np'.\n",
        "\n",
        "# Load data\n",
        "train_data = loadmat('train_32x32.mat')  # Load the training data from the MATLAB file 'train_32x32.mat'.\n",
        "test_data = loadmat('test_32x32.mat')  # Load the test data from the MATLAB file 'test_32x32.mat'.\n",
        "\n",
        "# Preprocess the data\n",
        "x_train = np.transpose(train_data['X'], (3, 0, 1, 2)).astype('float32') / 255.0  # Rearrange the axes of the training images for processing, convert to float32, and normalize the pixel values.\n",
        "y_train = train_data['y'].flatten()  # Flatten the training labels array to a single dimension.\n",
        "x_test = np.transpose(test_data['X'], (3, 0, 1, 2)).astype('float32') / 255.0  # Rearrange the axes of the testing images for processing, convert to float32, and normalize the pixel values.\n",
        "y_test = test_data['y'].flatten()  # Flatten the test labels array to a single dimension.\n",
        "\n",
        "# Display the shape of the datasets\n",
        "print(f'Training data shape: {x_train.shape}')  # Print the shape of the processed training data.\n",
        "print(f'Test data shape: {x_test.shape}')  # Print the shape of the processed test data."
      ],
      "metadata": {
        "colab": {
          "base_uri": "https://localhost:8080/"
        },
        "id": "yvy_Zo5u6zSh",
        "outputId": "5476fdbf-b174-4382-fbfe-3b5c528c6c1d"
      },
      "execution_count": null,
      "outputs": [
        {
          "output_type": "stream",
          "name": "stdout",
          "text": [
            "Training data shape: (73257, 32, 32, 3)\n",
            "Test data shape: (26032, 32, 32, 3)\n"
          ]
        }
      ]
    },
    {
      "cell_type": "code",
      "source": [
        "##Step 2: Build a Variational Autoencoder (VAE)\n",
        "\n",
        "## In this step the idea of improving loss is crucial it directly impact the traning\n",
        "## To improe loss function first I added dropout after the convolutional layers in both the encoder and decoder of the VAE,\n",
        "## Also I add the learning rate,I've thought about changing optimization but I didn't because Adam is the optimization can update weights at each step\n",
        "## my idea is update the learning rate higher to explore if it allows for more substantial updates to the weights.\n",
        "## Add dropout to pervent overffting which means it should generalize better on new, unseen data.\n",
        "from tensorflow.keras import layers, models, losses# Import necessary libraries and modules from TensorFlow and Keras.\n",
        "import tensorflow as tf\n",
        "\n",
        "def sampling(args):\n",
        "    z_mean, z_log_var = args\n",
        "    batch = tf.shape(z_mean)[0] # Get the batch size.\n",
        "    dim = tf.shape(z_mean)[1]# Get the dimensionality of the latent space.\n",
        "    epsilon = tf.random.normal(shape=(batch, dim))# Generate random noise (epsilon)\n",
        "    return z_mean + tf.exp(0.5 * z_log_var) * epsilon# Return z by adjusting mean with the noise scaled by the variance\n",
        "# Define the function to build a Variational Autoencoder (VAE).\n",
        "def build_vae(latent_dim):\n",
        "    # # Encoder Part:\n",
        "    inputs = layers.Input(shape=(32, 32, 3))# Define input layer for images with shape 32x32x3\n",
        "    x = layers.Conv2D(32, 3, activation='relu', strides=2, padding='same')(inputs)# First convolutional layer with 32 filters, kernel size of 3, and down-sampling.\n",
        "    x = layers.Dropout(0.3)(x) # # Dropout to prevent overfitting by randomly setting input units to 0 at a rate of 0.3 during training\n",
        "    x = layers.Conv2D(64, 3, activation='relu', strides=2, padding='same')(x)# Second convolutional layer increasing the depth to 64.\n",
        "    x = layers.Dropout(0.3)(x) # # Another dropout for additional regularization.\n",
        "    x = layers.Flatten()(x)# Flatten the 3D output to 1D before passing to the dense layers fully connected layes.\n",
        "    z_mean = layers.Dense(latent_dim, name='z_mean')(x)# Dense layer to output the mean of the latent space distribution.\n",
        "    z_log_var = layers.Dense(latent_dim, name='z_log_var')(x)# Dense layer to output the logarithm of the variance of the latent space distribution.\n",
        "    z = layers.Lambda(sampling, output_shape=(latent_dim,), name='z')([z_mean, z_log_var]) # Lambda layer to sample from the distribution using the `sampling` function.\n",
        "\n",
        "    # Decoder\n",
        "    latent_inputs = layers.Input(shape=(latent_dim,)) # Define the input layer for the decoder using the latent dimension.\n",
        "    x = layers.Dense(8 * 8 * 64, activation='relu')(latent_inputs)# Dense layer to expand the latent vector into a larger vector suitable for reshaping into a feature map.\n",
        "    x = layers.Reshape((8, 8, 64))(x)# # Reshape the output of the dense layer into a 3D feature map, preparing it for convolutional layers.\n",
        "    x = layers.Conv2DTranspose(64, 3, activation='relu', strides=2, padding='same')(x)## Transposed convolution (or deconvolution) layer that upsamples the feature map to a larger spatial dimension, using 64 filters of size 3x3.\n",
        "    x = layers.Dropout(0.3)(x) # Apply dropout to the first transposed convolution layer to prevent overfitting by randomly setting a fraction (30%) of input units to 0 at each update during training time.\n",
        "    x = layers.Conv2DTranspose(32, 3, activation='relu', strides=2, padding='same')(x)# Second transposed convolution layer that further upsamples the feature map, reducing the number of filters to 32 for generating finer details.\n",
        "    x = layers.Dropout(0.3)(x) # Apply dropout to the second transposed convolution layer for additional regularization.\n",
        "    outputs = layers.Conv2DTranspose(3, 3, activation='sigmoid', padding='same')(x)# Final transposed convolution layer that maps the feature map back to the original image dimensions with 3 channels (assuming RGB images), using a sigmoid activation to ensure the output pixel values are between 0 and 1.\n",
        "\n",
        "    # Instantiate the encoder, decoder, and VAE models\n",
        "    encoder = models.Model(inputs, [z_mean, z_log_var, z], name=\"encoder\") # The encoder model.\n",
        "    decoder = models.Model(latent_inputs, outputs, name=\"decoder\")# The decoder model.\n",
        "    vae_outputs = decoder(encoder(inputs)[2])# Pass the output of the encoder (sampled z values) to the decoder.\n",
        "    vae = models.Model(inputs, vae_outputs, name=\"vae\")# Complete VAE model.\n",
        "\n",
        "    # Add VAE loss\n",
        "    reconstruction_loss = losses.binary_crossentropy(inputs, vae_outputs)# Compute the binary crossentropy loss between input and VAE output.\n",
        "    reconstruction_loss = tf.reduce_sum(reconstruction_loss, axis=(1,2)) # Calculate sum of losses per image,sum over features for each sample.\n",
        "    kl_loss = -0.5 * tf.reduce_sum(1 + z_log_var - tf.square(z_mean) - tf.exp(z_log_var), axis=1)# Calculate the KL loss for each sample.\n",
        "    vae.add_loss(tf.reduce_mean(reconstruction_loss + kl_loss))# Add the average VAE loss to the model.\n",
        "    return vae# Return the complete model."
      ],
      "metadata": {
        "id": "QS525s3l7B6Y"
      },
      "execution_count": 27,
      "outputs": []
    },
    {
      "cell_type": "code",
      "source": [
        "##Step 3: Train the VAE with Various Latent Dimensions\n",
        "from tensorflow.keras.callbacks import ModelCheckpoint, EarlyStopping  # Import necessary callback functions\n",
        "import tensorflow as tf  # Import TensorFlow\n",
        "\n",
        "latent_dims = [2, 5, 10]  # Define different sizes for the latent space to explore their impacts on the model's performance\n",
        "for dim in latent_dims:  # Iterate over each specified latent dimension\n",
        "    print(f\"Training VAE with latent dimension: {dim}\")  # Print the current latent dimension being used for training\n",
        "    vae = build_vae(latent_dim=dim)  # Build a VAE model with the current latent dimension\n",
        "    vae.compile(optimizer=tf.keras.optimizers.Adam(learning_rate=0.001),  # Compile the model using the Adam optimizer\n",
        "                loss=tf.keras.losses.MeanSquaredError())  # Use Mean Squared Error as the loss function\n",
        "\n",
        "    # Setup callbacks for saving the best model and early stopping\n",
        "    checkpoint_callback = ModelCheckpoint(\n",
        "        f'vae_model_dim_{dim}.h5',  # Specify the file path where the best model will be saved\n",
        "        save_best_only=True,  # Only save the model if its 'val_loss' has improved\n",
        "        monitor='val_loss',  # Monitor the validation loss to determine improvement\n",
        "        mode='min',  # The goal is to minimize the validation loss\n",
        "        verbose=1  # Print messages when the model is being saved\n",
        "    )\n",
        "    early_stopping_callback = EarlyStopping(\n",
        "        monitor='val_loss',  # Monitor the validation loss to decide when to stop training\n",
        "        patience=10,  # Stop training if no improvement in validation loss after 10 epochs\n",
        "        verbose=1  # Print messages when training is stopped prematurely\n",
        "    )\n",
        "\n",
        "    # Train the model using the defined callbacks\n",
        "    vae.fit(\n",
        "        x_train, x_train,  # Training data where inputs are the same as the targets (unsupervised learning)\n",
        "        epochs=50,  # Set the maximum number of epochs for training\n",
        "        batch_size=128,  # The number of samples per batch of computation\n",
        "        validation_data=(x_test, x_test),  # Validation data used to evaluate the loss and any model metrics at the end of each epoch\n",
        "        callbacks=[checkpoint_callback, early_stopping_callback]  # List of callbacks to apply during training\n",
        "    )"
      ],
      "metadata": {
        "colab": {
          "base_uri": "https://localhost:8080/"
        },
        "id": "EC-OA2628SvQ",
        "outputId": "9c6aaa43-8a86-4e17-bb04-ae1ab860cb41"
      },
      "execution_count": 28,
      "outputs": [
        {
          "output_type": "stream",
          "name": "stdout",
          "text": [
            "Training VAE with latent dimension: 2\n",
            "Epoch 1/50\n",
            "572/573 [============================>.] - ETA: 0s - loss: 693.3131\n",
            "Epoch 1: val_loss improved from inf to 675.99072, saving model to vae_model_dim_2.h5\n"
          ]
        },
        {
          "output_type": "stream",
          "name": "stderr",
          "text": [
            "WARNING:tensorflow:Found duplicated `Variable`s in Model's `weights`. This is usually caused by `Variable`s being shared by Layers in the Model. These `Variable`s will be treated as separate `Variable`s when the Model is restored. To avoid this, please save with `save_format=\"tf\"`.\n"
          ]
        },
        {
          "output_type": "stream",
          "name": "stdout",
          "text": [
            "\b\b\b\b\b\b\b\b\b\b\b\b\b\b\b\b\b\b\b\b\b\b\b\b\b\b\b\b\b\b\b\b\b\b\b\b\b\b\b\b\b\b\b\b\b\b\b\b\b\b\b\b\b\b\b\b\b\b\b\b\b\b\b\b\b\b\b\r573/573 [==============================] - 28s 46ms/step - loss: 693.3060 - val_loss: 675.9907\n",
            "Epoch 2/50\n",
            "573/573 [==============================] - ETA: 0s - loss: 684.1779\n",
            "Epoch 2: val_loss improved from 675.99072 to 672.56628, saving model to vae_model_dim_2.h5\n"
          ]
        },
        {
          "output_type": "stream",
          "name": "stderr",
          "text": [
            "WARNING:tensorflow:Found duplicated `Variable`s in Model's `weights`. This is usually caused by `Variable`s being shared by Layers in the Model. These `Variable`s will be treated as separate `Variable`s when the Model is restored. To avoid this, please save with `save_format=\"tf\"`.\n"
          ]
        },
        {
          "output_type": "stream",
          "name": "stdout",
          "text": [
            "\b\b\b\b\b\b\b\b\b\b\b\b\b\b\b\b\b\b\b\b\b\b\b\b\b\b\b\b\b\b\b\b\b\b\b\b\b\b\b\b\b\b\b\b\b\b\b\b\b\b\b\b\b\b\b\b\b\b\b\b\b\b\b\b\b\b\b\r573/573 [==============================] - 25s 43ms/step - loss: 684.1779 - val_loss: 672.5663\n",
            "Epoch 3/50\n",
            "573/573 [==============================] - ETA: 0s - loss: 681.3530\n",
            "Epoch 3: val_loss improved from 672.56628 to 668.81287, saving model to vae_model_dim_2.h5\n"
          ]
        },
        {
          "output_type": "stream",
          "name": "stderr",
          "text": [
            "WARNING:tensorflow:Found duplicated `Variable`s in Model's `weights`. This is usually caused by `Variable`s being shared by Layers in the Model. These `Variable`s will be treated as separate `Variable`s when the Model is restored. To avoid this, please save with `save_format=\"tf\"`.\n"
          ]
        },
        {
          "output_type": "stream",
          "name": "stdout",
          "text": [
            "\b\b\b\b\b\b\b\b\b\b\b\b\b\b\b\b\b\b\b\b\b\b\b\b\b\b\b\b\b\b\b\b\b\b\b\b\b\b\b\b\b\b\b\b\b\b\b\b\b\b\b\b\b\b\b\b\b\b\b\b\b\b\b\b\b\b\b\r573/573 [==============================] - 24s 42ms/step - loss: 681.3530 - val_loss: 668.8129\n",
            "Epoch 4/50\n",
            "572/573 [============================>.] - ETA: 0s - loss: 679.4034\n",
            "Epoch 4: val_loss improved from 668.81287 to 666.63885, saving model to vae_model_dim_2.h5\n"
          ]
        },
        {
          "output_type": "stream",
          "name": "stderr",
          "text": [
            "WARNING:tensorflow:Found duplicated `Variable`s in Model's `weights`. This is usually caused by `Variable`s being shared by Layers in the Model. These `Variable`s will be treated as separate `Variable`s when the Model is restored. To avoid this, please save with `save_format=\"tf\"`.\n"
          ]
        },
        {
          "output_type": "stream",
          "name": "stdout",
          "text": [
            "\b\b\b\b\b\b\b\b\b\b\b\b\b\b\b\b\b\b\b\b\b\b\b\b\b\b\b\b\b\b\b\b\b\b\b\b\b\b\b\b\b\b\b\b\b\b\b\b\b\b\b\b\b\b\b\b\b\b\b\b\b\b\b\b\b\b\b\r573/573 [==============================] - 24s 42ms/step - loss: 679.4076 - val_loss: 666.6389\n",
            "Epoch 5/50\n",
            "573/573 [==============================] - ETA: 0s - loss: 678.2284\n",
            "Epoch 5: val_loss improved from 666.63885 to 665.13214, saving model to vae_model_dim_2.h5\n"
          ]
        },
        {
          "output_type": "stream",
          "name": "stderr",
          "text": [
            "WARNING:tensorflow:Found duplicated `Variable`s in Model's `weights`. This is usually caused by `Variable`s being shared by Layers in the Model. These `Variable`s will be treated as separate `Variable`s when the Model is restored. To avoid this, please save with `save_format=\"tf\"`.\n"
          ]
        },
        {
          "output_type": "stream",
          "name": "stdout",
          "text": [
            "\b\b\b\b\b\b\b\b\b\b\b\b\b\b\b\b\b\b\b\b\b\b\b\b\b\b\b\b\b\b\b\b\b\b\b\b\b\b\b\b\b\b\b\b\b\b\b\b\b\b\b\b\b\b\b\b\b\b\b\b\b\b\b\b\b\b\b\r573/573 [==============================] - 24s 42ms/step - loss: 678.2284 - val_loss: 665.1321\n",
            "Epoch 6/50\n",
            "572/573 [============================>.] - ETA: 0s - loss: 677.2510\n",
            "Epoch 6: val_loss improved from 665.13214 to 663.35803, saving model to vae_model_dim_2.h5\n"
          ]
        },
        {
          "output_type": "stream",
          "name": "stderr",
          "text": [
            "WARNING:tensorflow:Found duplicated `Variable`s in Model's `weights`. This is usually caused by `Variable`s being shared by Layers in the Model. These `Variable`s will be treated as separate `Variable`s when the Model is restored. To avoid this, please save with `save_format=\"tf\"`.\n"
          ]
        },
        {
          "output_type": "stream",
          "name": "stdout",
          "text": [
            "\b\b\b\b\b\b\b\b\b\b\b\b\b\b\b\b\b\b\b\b\b\b\b\b\b\b\b\b\b\b\b\b\b\b\b\b\b\b\b\b\b\b\b\b\b\b\b\b\b\b\b\b\b\b\b\b\b\b\b\b\b\b\b\b\b\b\b\r573/573 [==============================] - 25s 43ms/step - loss: 677.2570 - val_loss: 663.3580\n",
            "Epoch 7/50\n",
            "572/573 [============================>.] - ETA: 0s - loss: 676.4879\n",
            "Epoch 7: val_loss improved from 663.35803 to 662.68579, saving model to vae_model_dim_2.h5\n"
          ]
        },
        {
          "output_type": "stream",
          "name": "stderr",
          "text": [
            "WARNING:tensorflow:Found duplicated `Variable`s in Model's `weights`. This is usually caused by `Variable`s being shared by Layers in the Model. These `Variable`s will be treated as separate `Variable`s when the Model is restored. To avoid this, please save with `save_format=\"tf\"`.\n"
          ]
        },
        {
          "output_type": "stream",
          "name": "stdout",
          "text": [
            "\b\b\b\b\b\b\b\b\b\b\b\b\b\b\b\b\b\b\b\b\b\b\b\b\b\b\b\b\b\b\b\b\b\b\b\b\b\b\b\b\b\b\b\b\b\b\b\b\b\b\b\b\b\b\b\b\b\b\b\b\b\b\b\b\b\b\b\r573/573 [==============================] - 24s 43ms/step - loss: 676.4839 - val_loss: 662.6858\n",
            "Epoch 8/50\n",
            "573/573 [==============================] - ETA: 0s - loss: 676.1439\n",
            "Epoch 8: val_loss improved from 662.68579 to 661.40503, saving model to vae_model_dim_2.h5\n"
          ]
        },
        {
          "output_type": "stream",
          "name": "stderr",
          "text": [
            "WARNING:tensorflow:Found duplicated `Variable`s in Model's `weights`. This is usually caused by `Variable`s being shared by Layers in the Model. These `Variable`s will be treated as separate `Variable`s when the Model is restored. To avoid this, please save with `save_format=\"tf\"`.\n"
          ]
        },
        {
          "output_type": "stream",
          "name": "stdout",
          "text": [
            "\b\b\b\b\b\b\b\b\b\b\b\b\b\b\b\b\b\b\b\b\b\b\b\b\b\b\b\b\b\b\b\b\b\b\b\b\b\b\b\b\b\b\b\b\b\b\b\b\b\b\b\b\b\b\b\b\b\b\b\b\b\b\b\b\b\b\b\r573/573 [==============================] - 24s 42ms/step - loss: 676.1439 - val_loss: 661.4050\n",
            "Epoch 9/50\n",
            "572/573 [============================>.] - ETA: 0s - loss: 675.6674\n",
            "Epoch 9: val_loss improved from 661.40503 to 661.07861, saving model to vae_model_dim_2.h5\n"
          ]
        },
        {
          "output_type": "stream",
          "name": "stderr",
          "text": [
            "WARNING:tensorflow:Found duplicated `Variable`s in Model's `weights`. This is usually caused by `Variable`s being shared by Layers in the Model. These `Variable`s will be treated as separate `Variable`s when the Model is restored. To avoid this, please save with `save_format=\"tf\"`.\n"
          ]
        },
        {
          "output_type": "stream",
          "name": "stdout",
          "text": [
            "\b\b\b\b\b\b\b\b\b\b\b\b\b\b\b\b\b\b\b\b\b\b\b\b\b\b\b\b\b\b\b\b\b\b\b\b\b\b\b\b\b\b\b\b\b\b\b\b\b\b\b\b\b\b\b\b\b\b\b\b\b\b\b\b\b\b\b\r573/573 [==============================] - 24s 42ms/step - loss: 675.6640 - val_loss: 661.0786\n",
            "Epoch 10/50\n",
            "572/573 [============================>.] - ETA: 0s - loss: 674.7843\n",
            "Epoch 10: val_loss improved from 661.07861 to 654.57513, saving model to vae_model_dim_2.h5\n"
          ]
        },
        {
          "output_type": "stream",
          "name": "stderr",
          "text": [
            "WARNING:tensorflow:Found duplicated `Variable`s in Model's `weights`. This is usually caused by `Variable`s being shared by Layers in the Model. These `Variable`s will be treated as separate `Variable`s when the Model is restored. To avoid this, please save with `save_format=\"tf\"`.\n"
          ]
        },
        {
          "output_type": "stream",
          "name": "stdout",
          "text": [
            "\b\b\b\b\b\b\b\b\b\b\b\b\b\b\b\b\b\b\b\b\b\b\b\b\b\b\b\b\b\b\b\b\b\b\b\b\b\b\b\b\b\b\b\b\b\b\b\b\b\b\b\b\b\b\b\b\b\b\b\b\b\b\b\b\b\b\b\r573/573 [==============================] - 24s 43ms/step - loss: 674.7814 - val_loss: 654.5751\n",
            "Epoch 11/50\n",
            "573/573 [==============================] - ETA: 0s - loss: 665.7995\n",
            "Epoch 11: val_loss improved from 654.57513 to 647.54669, saving model to vae_model_dim_2.h5\n"
          ]
        },
        {
          "output_type": "stream",
          "name": "stderr",
          "text": [
            "WARNING:tensorflow:Found duplicated `Variable`s in Model's `weights`. This is usually caused by `Variable`s being shared by Layers in the Model. These `Variable`s will be treated as separate `Variable`s when the Model is restored. To avoid this, please save with `save_format=\"tf\"`.\n"
          ]
        },
        {
          "output_type": "stream",
          "name": "stdout",
          "text": [
            "\b\b\b\b\b\b\b\b\b\b\b\b\b\b\b\b\b\b\b\b\b\b\b\b\b\b\b\b\b\b\b\b\b\b\b\b\b\b\b\b\b\b\b\b\b\b\b\b\b\b\b\b\b\b\b\b\b\b\b\b\b\b\b\b\b\b\b\r573/573 [==============================] - 25s 43ms/step - loss: 665.7995 - val_loss: 647.5467\n",
            "Epoch 12/50\n",
            "572/573 [============================>.] - ETA: 0s - loss: 663.1548\n",
            "Epoch 12: val_loss improved from 647.54669 to 645.47119, saving model to vae_model_dim_2.h5\n"
          ]
        },
        {
          "output_type": "stream",
          "name": "stderr",
          "text": [
            "WARNING:tensorflow:Found duplicated `Variable`s in Model's `weights`. This is usually caused by `Variable`s being shared by Layers in the Model. These `Variable`s will be treated as separate `Variable`s when the Model is restored. To avoid this, please save with `save_format=\"tf\"`.\n"
          ]
        },
        {
          "output_type": "stream",
          "name": "stdout",
          "text": [
            "\b\b\b\b\b\b\b\b\b\b\b\b\b\b\b\b\b\b\b\b\b\b\b\b\b\b\b\b\b\b\b\b\b\b\b\b\b\b\b\b\b\b\b\b\b\b\b\b\b\b\b\b\b\b\b\b\b\b\b\b\b\b\b\b\b\b\b\r573/573 [==============================] - 24s 43ms/step - loss: 663.1505 - val_loss: 645.4712\n",
            "Epoch 13/50\n",
            "573/573 [==============================] - ETA: 0s - loss: 661.7901\n",
            "Epoch 13: val_loss improved from 645.47119 to 643.87152, saving model to vae_model_dim_2.h5\n"
          ]
        },
        {
          "output_type": "stream",
          "name": "stderr",
          "text": [
            "WARNING:tensorflow:Found duplicated `Variable`s in Model's `weights`. This is usually caused by `Variable`s being shared by Layers in the Model. These `Variable`s will be treated as separate `Variable`s when the Model is restored. To avoid this, please save with `save_format=\"tf\"`.\n"
          ]
        },
        {
          "output_type": "stream",
          "name": "stdout",
          "text": [
            "\b\b\b\b\b\b\b\b\b\b\b\b\b\b\b\b\b\b\b\b\b\b\b\b\b\b\b\b\b\b\b\b\b\b\b\b\b\b\b\b\b\b\b\b\b\b\b\b\b\b\b\b\b\b\b\b\b\b\b\b\b\b\b\b\b\b\b\r573/573 [==============================] - 24s 43ms/step - loss: 661.7901 - val_loss: 643.8715\n",
            "Epoch 14/50\n",
            "573/573 [==============================] - ETA: 0s - loss: 660.7531\n",
            "Epoch 14: val_loss improved from 643.87152 to 642.53394, saving model to vae_model_dim_2.h5\n"
          ]
        },
        {
          "output_type": "stream",
          "name": "stderr",
          "text": [
            "WARNING:tensorflow:Found duplicated `Variable`s in Model's `weights`. This is usually caused by `Variable`s being shared by Layers in the Model. These `Variable`s will be treated as separate `Variable`s when the Model is restored. To avoid this, please save with `save_format=\"tf\"`.\n"
          ]
        },
        {
          "output_type": "stream",
          "name": "stdout",
          "text": [
            "\b\b\b\b\b\b\b\b\b\b\b\b\b\b\b\b\b\b\b\b\b\b\b\b\b\b\b\b\b\b\b\b\b\b\b\b\b\b\b\b\b\b\b\b\b\b\b\b\b\b\b\b\b\b\b\b\b\b\b\b\b\b\b\b\b\b\b\r573/573 [==============================] - 24s 43ms/step - loss: 660.7531 - val_loss: 642.5339\n",
            "Epoch 15/50\n",
            "573/573 [==============================] - ETA: 0s - loss: 660.0121\n",
            "Epoch 15: val_loss improved from 642.53394 to 641.60437, saving model to vae_model_dim_2.h5\n"
          ]
        },
        {
          "output_type": "stream",
          "name": "stderr",
          "text": [
            "WARNING:tensorflow:Found duplicated `Variable`s in Model's `weights`. This is usually caused by `Variable`s being shared by Layers in the Model. These `Variable`s will be treated as separate `Variable`s when the Model is restored. To avoid this, please save with `save_format=\"tf\"`.\n"
          ]
        },
        {
          "output_type": "stream",
          "name": "stdout",
          "text": [
            "\b\b\b\b\b\b\b\b\b\b\b\b\b\b\b\b\b\b\b\b\b\b\b\b\b\b\b\b\b\b\b\b\b\b\b\b\b\b\b\b\b\b\b\b\b\b\b\b\b\b\b\b\b\b\b\b\b\b\b\b\b\b\b\b\b\b\b\r573/573 [==============================] - 24s 43ms/step - loss: 660.0121 - val_loss: 641.6044\n",
            "Epoch 16/50\n",
            "572/573 [============================>.] - ETA: 0s - loss: 659.4037\n",
            "Epoch 16: val_loss improved from 641.60437 to 640.78497, saving model to vae_model_dim_2.h5\n"
          ]
        },
        {
          "output_type": "stream",
          "name": "stderr",
          "text": [
            "WARNING:tensorflow:Found duplicated `Variable`s in Model's `weights`. This is usually caused by `Variable`s being shared by Layers in the Model. These `Variable`s will be treated as separate `Variable`s when the Model is restored. To avoid this, please save with `save_format=\"tf\"`.\n"
          ]
        },
        {
          "output_type": "stream",
          "name": "stdout",
          "text": [
            "\b\b\b\b\b\b\b\b\b\b\b\b\b\b\b\b\b\b\b\b\b\b\b\b\b\b\b\b\b\b\b\b\b\b\b\b\b\b\b\b\b\b\b\b\b\b\b\b\b\b\b\b\b\b\b\b\b\b\b\b\b\b\b\b\b\b\b\r573/573 [==============================] - 24s 43ms/step - loss: 659.4059 - val_loss: 640.7850\n",
            "Epoch 17/50\n",
            "573/573 [==============================] - ETA: 0s - loss: 658.9091\n",
            "Epoch 17: val_loss improved from 640.78497 to 640.06714, saving model to vae_model_dim_2.h5\n"
          ]
        },
        {
          "output_type": "stream",
          "name": "stderr",
          "text": [
            "WARNING:tensorflow:Found duplicated `Variable`s in Model's `weights`. This is usually caused by `Variable`s being shared by Layers in the Model. These `Variable`s will be treated as separate `Variable`s when the Model is restored. To avoid this, please save with `save_format=\"tf\"`.\n"
          ]
        },
        {
          "output_type": "stream",
          "name": "stdout",
          "text": [
            "\b\b\b\b\b\b\b\b\b\b\b\b\b\b\b\b\b\b\b\b\b\b\b\b\b\b\b\b\b\b\b\b\b\b\b\b\b\b\b\b\b\b\b\b\b\b\b\b\b\b\b\b\b\b\b\b\b\b\b\b\b\b\b\b\b\b\b\r573/573 [==============================] - 24s 42ms/step - loss: 658.9091 - val_loss: 640.0671\n",
            "Epoch 18/50\n",
            "572/573 [============================>.] - ETA: 0s - loss: 658.4877\n",
            "Epoch 18: val_loss improved from 640.06714 to 639.47083, saving model to vae_model_dim_2.h5\n"
          ]
        },
        {
          "output_type": "stream",
          "name": "stderr",
          "text": [
            "WARNING:tensorflow:Found duplicated `Variable`s in Model's `weights`. This is usually caused by `Variable`s being shared by Layers in the Model. These `Variable`s will be treated as separate `Variable`s when the Model is restored. To avoid this, please save with `save_format=\"tf\"`.\n"
          ]
        },
        {
          "output_type": "stream",
          "name": "stdout",
          "text": [
            "\b\b\b\b\b\b\b\b\b\b\b\b\b\b\b\b\b\b\b\b\b\b\b\b\b\b\b\b\b\b\b\b\b\b\b\b\b\b\b\b\b\b\b\b\b\b\b\b\b\b\b\b\b\b\b\b\b\b\b\b\b\b\b\b\b\b\b\r573/573 [==============================] - 24s 43ms/step - loss: 658.4854 - val_loss: 639.4708\n",
            "Epoch 19/50\n",
            "572/573 [============================>.] - ETA: 0s - loss: 658.1190\n",
            "Epoch 19: val_loss improved from 639.47083 to 638.90076, saving model to vae_model_dim_2.h5\n"
          ]
        },
        {
          "output_type": "stream",
          "name": "stderr",
          "text": [
            "WARNING:tensorflow:Found duplicated `Variable`s in Model's `weights`. This is usually caused by `Variable`s being shared by Layers in the Model. These `Variable`s will be treated as separate `Variable`s when the Model is restored. To avoid this, please save with `save_format=\"tf\"`.\n"
          ]
        },
        {
          "output_type": "stream",
          "name": "stdout",
          "text": [
            "\b\b\b\b\b\b\b\b\b\b\b\b\b\b\b\b\b\b\b\b\b\b\b\b\b\b\b\b\b\b\b\b\b\b\b\b\b\b\b\b\b\b\b\b\b\b\b\b\b\b\b\b\b\b\b\b\b\b\b\b\b\b\b\b\b\b\b\r573/573 [==============================] - 25s 43ms/step - loss: 658.1166 - val_loss: 638.9008\n",
            "Epoch 20/50\n",
            "573/573 [==============================] - ETA: 0s - loss: 657.8197\n",
            "Epoch 20: val_loss improved from 638.90076 to 638.55084, saving model to vae_model_dim_2.h5\n"
          ]
        },
        {
          "output_type": "stream",
          "name": "stderr",
          "text": [
            "WARNING:tensorflow:Found duplicated `Variable`s in Model's `weights`. This is usually caused by `Variable`s being shared by Layers in the Model. These `Variable`s will be treated as separate `Variable`s when the Model is restored. To avoid this, please save with `save_format=\"tf\"`.\n"
          ]
        },
        {
          "output_type": "stream",
          "name": "stdout",
          "text": [
            "\b\b\b\b\b\b\b\b\b\b\b\b\b\b\b\b\b\b\b\b\b\b\b\b\b\b\b\b\b\b\b\b\b\b\b\b\b\b\b\b\b\b\b\b\b\b\b\b\b\b\b\b\b\b\b\b\b\b\b\b\b\b\b\b\b\b\b\r573/573 [==============================] - 24s 42ms/step - loss: 657.8197 - val_loss: 638.5508\n",
            "Epoch 21/50\n",
            "572/573 [============================>.] - ETA: 0s - loss: 657.5528\n",
            "Epoch 21: val_loss improved from 638.55084 to 637.94348, saving model to vae_model_dim_2.h5\n"
          ]
        },
        {
          "output_type": "stream",
          "name": "stderr",
          "text": [
            "WARNING:tensorflow:Found duplicated `Variable`s in Model's `weights`. This is usually caused by `Variable`s being shared by Layers in the Model. These `Variable`s will be treated as separate `Variable`s when the Model is restored. To avoid this, please save with `save_format=\"tf\"`.\n"
          ]
        },
        {
          "output_type": "stream",
          "name": "stdout",
          "text": [
            "\b\b\b\b\b\b\b\b\b\b\b\b\b\b\b\b\b\b\b\b\b\b\b\b\b\b\b\b\b\b\b\b\b\b\b\b\b\b\b\b\b\b\b\b\b\b\b\b\b\b\b\b\b\b\b\b\b\b\b\b\b\b\b\b\b\b\b\r573/573 [==============================] - 25s 43ms/step - loss: 657.5588 - val_loss: 637.9435\n",
            "Epoch 22/50\n",
            "573/573 [==============================] - ETA: 0s - loss: 657.3296\n",
            "Epoch 22: val_loss improved from 637.94348 to 637.83752, saving model to vae_model_dim_2.h5\n"
          ]
        },
        {
          "output_type": "stream",
          "name": "stderr",
          "text": [
            "WARNING:tensorflow:Found duplicated `Variable`s in Model's `weights`. This is usually caused by `Variable`s being shared by Layers in the Model. These `Variable`s will be treated as separate `Variable`s when the Model is restored. To avoid this, please save with `save_format=\"tf\"`.\n"
          ]
        },
        {
          "output_type": "stream",
          "name": "stdout",
          "text": [
            "\b\b\b\b\b\b\b\b\b\b\b\b\b\b\b\b\b\b\b\b\b\b\b\b\b\b\b\b\b\b\b\b\b\b\b\b\b\b\b\b\b\b\b\b\b\b\b\b\b\b\b\b\b\b\b\b\b\b\b\b\b\b\b\b\b\b\b\r573/573 [==============================] - 24s 43ms/step - loss: 657.3296 - val_loss: 637.8375\n",
            "Epoch 23/50\n",
            "573/573 [==============================] - ETA: 0s - loss: 657.1413\n",
            "Epoch 23: val_loss improved from 637.83752 to 637.30957, saving model to vae_model_dim_2.h5\n"
          ]
        },
        {
          "output_type": "stream",
          "name": "stderr",
          "text": [
            "WARNING:tensorflow:Found duplicated `Variable`s in Model's `weights`. This is usually caused by `Variable`s being shared by Layers in the Model. These `Variable`s will be treated as separate `Variable`s when the Model is restored. To avoid this, please save with `save_format=\"tf\"`.\n"
          ]
        },
        {
          "output_type": "stream",
          "name": "stdout",
          "text": [
            "\b\b\b\b\b\b\b\b\b\b\b\b\b\b\b\b\b\b\b\b\b\b\b\b\b\b\b\b\b\b\b\b\b\b\b\b\b\b\b\b\b\b\b\b\b\b\b\b\b\b\b\b\b\b\b\b\b\b\b\b\b\b\b\b\b\b\b\r573/573 [==============================] - 24s 42ms/step - loss: 657.1413 - val_loss: 637.3096\n",
            "Epoch 24/50\n",
            "572/573 [============================>.] - ETA: 0s - loss: 656.9764\n",
            "Epoch 24: val_loss improved from 637.30957 to 637.06799, saving model to vae_model_dim_2.h5\n"
          ]
        },
        {
          "output_type": "stream",
          "name": "stderr",
          "text": [
            "WARNING:tensorflow:Found duplicated `Variable`s in Model's `weights`. This is usually caused by `Variable`s being shared by Layers in the Model. These `Variable`s will be treated as separate `Variable`s when the Model is restored. To avoid this, please save with `save_format=\"tf\"`.\n"
          ]
        },
        {
          "output_type": "stream",
          "name": "stdout",
          "text": [
            "\b\b\b\b\b\b\b\b\b\b\b\b\b\b\b\b\b\b\b\b\b\b\b\b\b\b\b\b\b\b\b\b\b\b\b\b\b\b\b\b\b\b\b\b\b\b\b\b\b\b\b\b\b\b\b\b\b\b\b\b\b\b\b\b\b\b\b\r573/573 [==============================] - 24s 42ms/step - loss: 656.9681 - val_loss: 637.0680\n",
            "Epoch 25/50\n",
            "572/573 [============================>.] - ETA: 0s - loss: 656.8388\n",
            "Epoch 25: val_loss improved from 637.06799 to 636.76459, saving model to vae_model_dim_2.h5\n"
          ]
        },
        {
          "output_type": "stream",
          "name": "stderr",
          "text": [
            "WARNING:tensorflow:Found duplicated `Variable`s in Model's `weights`. This is usually caused by `Variable`s being shared by Layers in the Model. These `Variable`s will be treated as separate `Variable`s when the Model is restored. To avoid this, please save with `save_format=\"tf\"`.\n"
          ]
        },
        {
          "output_type": "stream",
          "name": "stdout",
          "text": [
            "\b\b\b\b\b\b\b\b\b\b\b\b\b\b\b\b\b\b\b\b\b\b\b\b\b\b\b\b\b\b\b\b\b\b\b\b\b\b\b\b\b\b\b\b\b\b\b\b\b\b\b\b\b\b\b\b\b\b\b\b\b\b\b\b\b\b\b\r573/573 [==============================] - 24s 43ms/step - loss: 656.8369 - val_loss: 636.7646\n",
            "Epoch 26/50\n",
            "572/573 [============================>.] - ETA: 0s - loss: 656.7242\n",
            "Epoch 26: val_loss improved from 636.76459 to 636.54797, saving model to vae_model_dim_2.h5\n"
          ]
        },
        {
          "output_type": "stream",
          "name": "stderr",
          "text": [
            "WARNING:tensorflow:Found duplicated `Variable`s in Model's `weights`. This is usually caused by `Variable`s being shared by Layers in the Model. These `Variable`s will be treated as separate `Variable`s when the Model is restored. To avoid this, please save with `save_format=\"tf\"`.\n"
          ]
        },
        {
          "output_type": "stream",
          "name": "stdout",
          "text": [
            "\b\b\b\b\b\b\b\b\b\b\b\b\b\b\b\b\b\b\b\b\b\b\b\b\b\b\b\b\b\b\b\b\b\b\b\b\b\b\b\b\b\b\b\b\b\b\b\b\b\b\b\b\b\b\b\b\b\b\b\b\b\b\b\b\b\b\b\r573/573 [==============================] - 24s 43ms/step - loss: 656.7269 - val_loss: 636.5480\n",
            "Epoch 27/50\n",
            "572/573 [============================>.] - ETA: 0s - loss: 656.5933\n",
            "Epoch 27: val_loss improved from 636.54797 to 636.27063, saving model to vae_model_dim_2.h5\n"
          ]
        },
        {
          "output_type": "stream",
          "name": "stderr",
          "text": [
            "WARNING:tensorflow:Found duplicated `Variable`s in Model's `weights`. This is usually caused by `Variable`s being shared by Layers in the Model. These `Variable`s will be treated as separate `Variable`s when the Model is restored. To avoid this, please save with `save_format=\"tf\"`.\n"
          ]
        },
        {
          "output_type": "stream",
          "name": "stdout",
          "text": [
            "\b\b\b\b\b\b\b\b\b\b\b\b\b\b\b\b\b\b\b\b\b\b\b\b\b\b\b\b\b\b\b\b\b\b\b\b\b\b\b\b\b\b\b\b\b\b\b\b\b\b\b\b\b\b\b\b\b\b\b\b\b\b\b\b\b\b\b\r573/573 [==============================] - 25s 43ms/step - loss: 656.5960 - val_loss: 636.2706\n",
            "Epoch 28/50\n",
            "572/573 [============================>.] - ETA: 0s - loss: 656.5216\n",
            "Epoch 28: val_loss improved from 636.27063 to 636.24658, saving model to vae_model_dim_2.h5\n"
          ]
        },
        {
          "output_type": "stream",
          "name": "stderr",
          "text": [
            "WARNING:tensorflow:Found duplicated `Variable`s in Model's `weights`. This is usually caused by `Variable`s being shared by Layers in the Model. These `Variable`s will be treated as separate `Variable`s when the Model is restored. To avoid this, please save with `save_format=\"tf\"`.\n"
          ]
        },
        {
          "output_type": "stream",
          "name": "stdout",
          "text": [
            "\b\b\b\b\b\b\b\b\b\b\b\b\b\b\b\b\b\b\b\b\b\b\b\b\b\b\b\b\b\b\b\b\b\b\b\b\b\b\b\b\b\b\b\b\b\b\b\b\b\b\b\b\b\b\b\b\b\b\b\b\b\b\b\b\b\b\b\r573/573 [==============================] - 24s 43ms/step - loss: 656.5229 - val_loss: 636.2466\n",
            "Epoch 29/50\n",
            "573/573 [==============================] - ETA: 0s - loss: 656.4431\n",
            "Epoch 29: val_loss improved from 636.24658 to 635.91785, saving model to vae_model_dim_2.h5\n"
          ]
        },
        {
          "output_type": "stream",
          "name": "stderr",
          "text": [
            "WARNING:tensorflow:Found duplicated `Variable`s in Model's `weights`. This is usually caused by `Variable`s being shared by Layers in the Model. These `Variable`s will be treated as separate `Variable`s when the Model is restored. To avoid this, please save with `save_format=\"tf\"`.\n"
          ]
        },
        {
          "output_type": "stream",
          "name": "stdout",
          "text": [
            "\b\b\b\b\b\b\b\b\b\b\b\b\b\b\b\b\b\b\b\b\b\b\b\b\b\b\b\b\b\b\b\b\b\b\b\b\b\b\b\b\b\b\b\b\b\b\b\b\b\b\b\b\b\b\b\b\b\b\b\b\b\b\b\b\b\b\b\r573/573 [==============================] - 24s 43ms/step - loss: 656.4431 - val_loss: 635.9178\n",
            "Epoch 30/50\n",
            "573/573 [==============================] - ETA: 0s - loss: 656.3812\n",
            "Epoch 30: val_loss did not improve from 635.91785\n",
            "573/573 [==============================] - 25s 43ms/step - loss: 656.3812 - val_loss: 635.9234\n",
            "Epoch 31/50\n",
            "572/573 [============================>.] - ETA: 0s - loss: 656.3239\n",
            "Epoch 31: val_loss improved from 635.91785 to 635.68622, saving model to vae_model_dim_2.h5\n"
          ]
        },
        {
          "output_type": "stream",
          "name": "stderr",
          "text": [
            "WARNING:tensorflow:Found duplicated `Variable`s in Model's `weights`. This is usually caused by `Variable`s being shared by Layers in the Model. These `Variable`s will be treated as separate `Variable`s when the Model is restored. To avoid this, please save with `save_format=\"tf\"`.\n"
          ]
        },
        {
          "output_type": "stream",
          "name": "stdout",
          "text": [
            "\b\b\b\b\b\b\b\b\b\b\b\b\b\b\b\b\b\b\b\b\b\b\b\b\b\b\b\b\b\b\b\b\b\b\b\b\b\b\b\b\b\b\b\b\b\b\b\b\b\b\b\b\b\b\b\b\b\b\b\b\b\b\b\b\b\b\b\r573/573 [==============================] - 25s 43ms/step - loss: 656.3313 - val_loss: 635.6862\n",
            "Epoch 32/50\n",
            "572/573 [============================>.] - ETA: 0s - loss: 656.2612\n",
            "Epoch 32: val_loss improved from 635.68622 to 635.54584, saving model to vae_model_dim_2.h5\n"
          ]
        },
        {
          "output_type": "stream",
          "name": "stderr",
          "text": [
            "WARNING:tensorflow:Found duplicated `Variable`s in Model's `weights`. This is usually caused by `Variable`s being shared by Layers in the Model. These `Variable`s will be treated as separate `Variable`s when the Model is restored. To avoid this, please save with `save_format=\"tf\"`.\n"
          ]
        },
        {
          "output_type": "stream",
          "name": "stdout",
          "text": [
            "\b\b\b\b\b\b\b\b\b\b\b\b\b\b\b\b\b\b\b\b\b\b\b\b\b\b\b\b\b\b\b\b\b\b\b\b\b\b\b\b\b\b\b\b\b\b\b\b\b\b\b\b\b\b\b\b\b\b\b\b\b\b\b\b\b\b\b\r573/573 [==============================] - 25s 43ms/step - loss: 656.2614 - val_loss: 635.5458\n",
            "Epoch 33/50\n",
            "573/573 [==============================] - ETA: 0s - loss: 656.2220\n",
            "Epoch 33: val_loss improved from 635.54584 to 635.47974, saving model to vae_model_dim_2.h5\n"
          ]
        },
        {
          "output_type": "stream",
          "name": "stderr",
          "text": [
            "WARNING:tensorflow:Found duplicated `Variable`s in Model's `weights`. This is usually caused by `Variable`s being shared by Layers in the Model. These `Variable`s will be treated as separate `Variable`s when the Model is restored. To avoid this, please save with `save_format=\"tf\"`.\n"
          ]
        },
        {
          "output_type": "stream",
          "name": "stdout",
          "text": [
            "\b\b\b\b\b\b\b\b\b\b\b\b\b\b\b\b\b\b\b\b\b\b\b\b\b\b\b\b\b\b\b\b\b\b\b\b\b\b\b\b\b\b\b\b\b\b\b\b\b\b\b\b\b\b\b\b\b\b\b\b\b\b\b\b\b\b\b\r573/573 [==============================] - 25s 43ms/step - loss: 656.2220 - val_loss: 635.4797\n",
            "Epoch 34/50\n",
            "572/573 [============================>.] - ETA: 0s - loss: 656.1667\n",
            "Epoch 34: val_loss improved from 635.47974 to 635.46338, saving model to vae_model_dim_2.h5\n"
          ]
        },
        {
          "output_type": "stream",
          "name": "stderr",
          "text": [
            "WARNING:tensorflow:Found duplicated `Variable`s in Model's `weights`. This is usually caused by `Variable`s being shared by Layers in the Model. These `Variable`s will be treated as separate `Variable`s when the Model is restored. To avoid this, please save with `save_format=\"tf\"`.\n"
          ]
        },
        {
          "output_type": "stream",
          "name": "stdout",
          "text": [
            "\b\b\b\b\b\b\b\b\b\b\b\b\b\b\b\b\b\b\b\b\b\b\b\b\b\b\b\b\b\b\b\b\b\b\b\b\b\b\b\b\b\b\b\b\b\b\b\b\b\b\b\b\b\b\b\b\b\b\b\b\b\b\b\b\b\b\b\r573/573 [==============================] - 24s 42ms/step - loss: 656.1774 - val_loss: 635.4634\n",
            "Epoch 35/50\n",
            "572/573 [============================>.] - ETA: 0s - loss: 656.1409\n",
            "Epoch 35: val_loss improved from 635.46338 to 635.27313, saving model to vae_model_dim_2.h5\n"
          ]
        },
        {
          "output_type": "stream",
          "name": "stderr",
          "text": [
            "WARNING:tensorflow:Found duplicated `Variable`s in Model's `weights`. This is usually caused by `Variable`s being shared by Layers in the Model. These `Variable`s will be treated as separate `Variable`s when the Model is restored. To avoid this, please save with `save_format=\"tf\"`.\n"
          ]
        },
        {
          "output_type": "stream",
          "name": "stdout",
          "text": [
            "\b\b\b\b\b\b\b\b\b\b\b\b\b\b\b\b\b\b\b\b\b\b\b\b\b\b\b\b\b\b\b\b\b\b\b\b\b\b\b\b\b\b\b\b\b\b\b\b\b\b\b\b\b\b\b\b\b\b\b\b\b\b\b\b\b\b\b\r573/573 [==============================] - 25s 43ms/step - loss: 656.1400 - val_loss: 635.2731\n",
            "Epoch 36/50\n",
            "573/573 [==============================] - ETA: 0s - loss: 656.0904\n",
            "Epoch 36: val_loss improved from 635.27313 to 635.16541, saving model to vae_model_dim_2.h5\n"
          ]
        },
        {
          "output_type": "stream",
          "name": "stderr",
          "text": [
            "WARNING:tensorflow:Found duplicated `Variable`s in Model's `weights`. This is usually caused by `Variable`s being shared by Layers in the Model. These `Variable`s will be treated as separate `Variable`s when the Model is restored. To avoid this, please save with `save_format=\"tf\"`.\n"
          ]
        },
        {
          "output_type": "stream",
          "name": "stdout",
          "text": [
            "\b\b\b\b\b\b\b\b\b\b\b\b\b\b\b\b\b\b\b\b\b\b\b\b\b\b\b\b\b\b\b\b\b\b\b\b\b\b\b\b\b\b\b\b\b\b\b\b\b\b\b\b\b\b\b\b\b\b\b\b\b\b\b\b\b\b\b\r573/573 [==============================] - 25s 43ms/step - loss: 656.0904 - val_loss: 635.1654\n",
            "Epoch 37/50\n",
            "572/573 [============================>.] - ETA: 0s - loss: 656.0844\n",
            "Epoch 37: val_loss did not improve from 635.16541\n",
            "573/573 [==============================] - 24s 43ms/step - loss: 656.0786 - val_loss: 635.2477\n",
            "Epoch 38/50\n",
            "573/573 [==============================] - ETA: 0s - loss: 656.0451\n",
            "Epoch 38: val_loss improved from 635.16541 to 634.99475, saving model to vae_model_dim_2.h5\n"
          ]
        },
        {
          "output_type": "stream",
          "name": "stderr",
          "text": [
            "WARNING:tensorflow:Found duplicated `Variable`s in Model's `weights`. This is usually caused by `Variable`s being shared by Layers in the Model. These `Variable`s will be treated as separate `Variable`s when the Model is restored. To avoid this, please save with `save_format=\"tf\"`.\n"
          ]
        },
        {
          "output_type": "stream",
          "name": "stdout",
          "text": [
            "\b\b\b\b\b\b\b\b\b\b\b\b\b\b\b\b\b\b\b\b\b\b\b\b\b\b\b\b\b\b\b\b\b\b\b\b\b\b\b\b\b\b\b\b\b\b\b\b\b\b\b\b\b\b\b\b\b\b\b\b\b\b\b\b\b\b\b\r573/573 [==============================] - 24s 43ms/step - loss: 656.0451 - val_loss: 634.9948\n",
            "Epoch 39/50\n",
            "572/573 [============================>.] - ETA: 0s - loss: 656.0247\n",
            "Epoch 39: val_loss did not improve from 634.99475\n",
            "573/573 [==============================] - 24s 43ms/step - loss: 656.0247 - val_loss: 635.0065\n",
            "Epoch 40/50\n",
            "573/573 [==============================] - ETA: 0s - loss: 656.0184\n",
            "Epoch 40: val_loss improved from 634.99475 to 634.86243, saving model to vae_model_dim_2.h5\n"
          ]
        },
        {
          "output_type": "stream",
          "name": "stderr",
          "text": [
            "WARNING:tensorflow:Found duplicated `Variable`s in Model's `weights`. This is usually caused by `Variable`s being shared by Layers in the Model. These `Variable`s will be treated as separate `Variable`s when the Model is restored. To avoid this, please save with `save_format=\"tf\"`.\n"
          ]
        },
        {
          "output_type": "stream",
          "name": "stdout",
          "text": [
            "\b\b\b\b\b\b\b\b\b\b\b\b\b\b\b\b\b\b\b\b\b\b\b\b\b\b\b\b\b\b\b\b\b\b\b\b\b\b\b\b\b\b\b\b\b\b\b\b\b\b\b\b\b\b\b\b\b\b\b\b\b\b\b\b\b\b\b\r573/573 [==============================] - 25s 43ms/step - loss: 656.0184 - val_loss: 634.8624\n",
            "Epoch 41/50\n",
            "572/573 [============================>.] - ETA: 0s - loss: 655.9976\n",
            "Epoch 41: val_loss improved from 634.86243 to 634.83258, saving model to vae_model_dim_2.h5\n"
          ]
        },
        {
          "output_type": "stream",
          "name": "stderr",
          "text": [
            "WARNING:tensorflow:Found duplicated `Variable`s in Model's `weights`. This is usually caused by `Variable`s being shared by Layers in the Model. These `Variable`s will be treated as separate `Variable`s when the Model is restored. To avoid this, please save with `save_format=\"tf\"`.\n"
          ]
        },
        {
          "output_type": "stream",
          "name": "stdout",
          "text": [
            "\b\b\b\b\b\b\b\b\b\b\b\b\b\b\b\b\b\b\b\b\b\b\b\b\b\b\b\b\b\b\b\b\b\b\b\b\b\b\b\b\b\b\b\b\b\b\b\b\b\b\b\b\b\b\b\b\b\b\b\b\b\b\b\b\b\b\b\r573/573 [==============================] - 25s 43ms/step - loss: 655.9983 - val_loss: 634.8326\n",
            "Epoch 42/50\n",
            "573/573 [==============================] - ETA: 0s - loss: 655.9811\n",
            "Epoch 42: val_loss improved from 634.83258 to 634.75531, saving model to vae_model_dim_2.h5\n"
          ]
        },
        {
          "output_type": "stream",
          "name": "stderr",
          "text": [
            "WARNING:tensorflow:Found duplicated `Variable`s in Model's `weights`. This is usually caused by `Variable`s being shared by Layers in the Model. These `Variable`s will be treated as separate `Variable`s when the Model is restored. To avoid this, please save with `save_format=\"tf\"`.\n"
          ]
        },
        {
          "output_type": "stream",
          "name": "stdout",
          "text": [
            "\b\b\b\b\b\b\b\b\b\b\b\b\b\b\b\b\b\b\b\b\b\b\b\b\b\b\b\b\b\b\b\b\b\b\b\b\b\b\b\b\b\b\b\b\b\b\b\b\b\b\b\b\b\b\b\b\b\b\b\b\b\b\b\b\b\b\b\r573/573 [==============================] - 25s 44ms/step - loss: 655.9811 - val_loss: 634.7553\n",
            "Epoch 43/50\n",
            "573/573 [==============================] - ETA: 0s - loss: 655.9508\n",
            "Epoch 43: val_loss did not improve from 634.75531\n",
            "573/573 [==============================] - 24s 43ms/step - loss: 655.9508 - val_loss: 634.8561\n",
            "Epoch 44/50\n",
            "573/573 [==============================] - ETA: 0s - loss: 655.9578\n",
            "Epoch 44: val_loss improved from 634.75531 to 634.74231, saving model to vae_model_dim_2.h5\n"
          ]
        },
        {
          "output_type": "stream",
          "name": "stderr",
          "text": [
            "WARNING:tensorflow:Found duplicated `Variable`s in Model's `weights`. This is usually caused by `Variable`s being shared by Layers in the Model. These `Variable`s will be treated as separate `Variable`s when the Model is restored. To avoid this, please save with `save_format=\"tf\"`.\n"
          ]
        },
        {
          "output_type": "stream",
          "name": "stdout",
          "text": [
            "\b\b\b\b\b\b\b\b\b\b\b\b\b\b\b\b\b\b\b\b\b\b\b\b\b\b\b\b\b\b\b\b\b\b\b\b\b\b\b\b\b\b\b\b\b\b\b\b\b\b\b\b\b\b\b\b\b\b\b\b\b\b\b\b\b\b\b\r573/573 [==============================] - 25s 43ms/step - loss: 655.9578 - val_loss: 634.7423\n",
            "Epoch 45/50\n",
            "572/573 [============================>.] - ETA: 0s - loss: 655.9449\n",
            "Epoch 45: val_loss did not improve from 634.74231\n",
            "573/573 [==============================] - 25s 43ms/step - loss: 655.9456 - val_loss: 634.8101\n",
            "Epoch 46/50\n",
            "572/573 [============================>.] - ETA: 0s - loss: 655.9191\n",
            "Epoch 46: val_loss did not improve from 634.74231\n",
            "573/573 [==============================] - 24s 43ms/step - loss: 655.9193 - val_loss: 634.8472\n",
            "Epoch 47/50\n",
            "572/573 [============================>.] - ETA: 0s - loss: 655.9289\n",
            "Epoch 47: val_loss did not improve from 634.74231\n",
            "573/573 [==============================] - 25s 43ms/step - loss: 655.9224 - val_loss: 634.8024\n",
            "Epoch 48/50\n",
            "572/573 [============================>.] - ETA: 0s - loss: 655.9010\n",
            "Epoch 48: val_loss improved from 634.74231 to 634.59406, saving model to vae_model_dim_2.h5\n"
          ]
        },
        {
          "output_type": "stream",
          "name": "stderr",
          "text": [
            "WARNING:tensorflow:Found duplicated `Variable`s in Model's `weights`. This is usually caused by `Variable`s being shared by Layers in the Model. These `Variable`s will be treated as separate `Variable`s when the Model is restored. To avoid this, please save with `save_format=\"tf\"`.\n"
          ]
        },
        {
          "output_type": "stream",
          "name": "stdout",
          "text": [
            "\b\b\b\b\b\b\b\b\b\b\b\b\b\b\b\b\b\b\b\b\b\b\b\b\b\b\b\b\b\b\b\b\b\b\b\b\b\b\b\b\b\b\b\b\b\b\b\b\b\b\b\b\b\b\b\b\b\b\b\b\b\b\b\b\b\b\b\r573/573 [==============================] - 24s 43ms/step - loss: 655.9033 - val_loss: 634.5941\n",
            "Epoch 49/50\n",
            "573/573 [==============================] - ETA: 0s - loss: 655.8926\n",
            "Epoch 49: val_loss improved from 634.59406 to 634.56042, saving model to vae_model_dim_2.h5\n"
          ]
        },
        {
          "output_type": "stream",
          "name": "stderr",
          "text": [
            "WARNING:tensorflow:Found duplicated `Variable`s in Model's `weights`. This is usually caused by `Variable`s being shared by Layers in the Model. These `Variable`s will be treated as separate `Variable`s when the Model is restored. To avoid this, please save with `save_format=\"tf\"`.\n"
          ]
        },
        {
          "output_type": "stream",
          "name": "stdout",
          "text": [
            "\b\b\b\b\b\b\b\b\b\b\b\b\b\b\b\b\b\b\b\b\b\b\b\b\b\b\b\b\b\b\b\b\b\b\b\b\b\b\b\b\b\b\b\b\b\b\b\b\b\b\b\b\b\b\b\b\b\b\b\b\b\b\b\b\b\b\b\r573/573 [==============================] - 24s 43ms/step - loss: 655.8926 - val_loss: 634.5604\n",
            "Epoch 50/50\n",
            "572/573 [============================>.] - ETA: 0s - loss: 655.9159\n",
            "Epoch 50: val_loss did not improve from 634.56042\n",
            "573/573 [==============================] - 24s 43ms/step - loss: 655.9121 - val_loss: 634.6871\n",
            "Training VAE with latent dimension: 5\n",
            "Epoch 1/50\n",
            "572/573 [============================>.] - ETA: 0s - loss: 689.7377\n",
            "Epoch 1: val_loss improved from inf to 666.92969, saving model to vae_model_dim_5.h5\n"
          ]
        },
        {
          "output_type": "stream",
          "name": "stderr",
          "text": [
            "WARNING:tensorflow:Found duplicated `Variable`s in Model's `weights`. This is usually caused by `Variable`s being shared by Layers in the Model. These `Variable`s will be treated as separate `Variable`s when the Model is restored. To avoid this, please save with `save_format=\"tf\"`.\n"
          ]
        },
        {
          "output_type": "stream",
          "name": "stdout",
          "text": [
            "\b\b\b\b\b\b\b\b\b\b\b\b\b\b\b\b\b\b\b\b\b\b\b\b\b\b\b\b\b\b\b\b\b\b\b\b\b\b\b\b\b\b\b\b\b\b\b\b\b\b\b\b\b\b\b\b\b\b\b\b\b\b\b\b\b\b\b\r573/573 [==============================] - 28s 46ms/step - loss: 689.7319 - val_loss: 666.9297\n",
            "Epoch 2/50\n",
            "572/573 [============================>.] - ETA: 0s - loss: 669.2368\n",
            "Epoch 2: val_loss improved from 666.92969 to 642.70551, saving model to vae_model_dim_5.h5\n"
          ]
        },
        {
          "output_type": "stream",
          "name": "stderr",
          "text": [
            "WARNING:tensorflow:Found duplicated `Variable`s in Model's `weights`. This is usually caused by `Variable`s being shared by Layers in the Model. These `Variable`s will be treated as separate `Variable`s when the Model is restored. To avoid this, please save with `save_format=\"tf\"`.\n"
          ]
        },
        {
          "output_type": "stream",
          "name": "stdout",
          "text": [
            "\b\b\b\b\b\b\b\b\b\b\b\b\b\b\b\b\b\b\b\b\b\b\b\b\b\b\b\b\b\b\b\b\b\b\b\b\b\b\b\b\b\b\b\b\b\b\b\b\b\b\b\b\b\b\b\b\b\b\b\b\b\b\b\b\b\b\b\r573/573 [==============================] - 25s 43ms/step - loss: 669.2314 - val_loss: 642.7055\n",
            "Epoch 3/50\n",
            "573/573 [==============================] - ETA: 0s - loss: 657.1761\n",
            "Epoch 3: val_loss improved from 642.70551 to 631.91443, saving model to vae_model_dim_5.h5\n"
          ]
        },
        {
          "output_type": "stream",
          "name": "stderr",
          "text": [
            "WARNING:tensorflow:Found duplicated `Variable`s in Model's `weights`. This is usually caused by `Variable`s being shared by Layers in the Model. These `Variable`s will be treated as separate `Variable`s when the Model is restored. To avoid this, please save with `save_format=\"tf\"`.\n"
          ]
        },
        {
          "output_type": "stream",
          "name": "stdout",
          "text": [
            "\b\b\b\b\b\b\b\b\b\b\b\b\b\b\b\b\b\b\b\b\b\b\b\b\b\b\b\b\b\b\b\b\b\b\b\b\b\b\b\b\b\b\b\b\b\b\b\b\b\b\b\b\b\b\b\b\b\b\b\b\b\b\b\b\b\b\b\r573/573 [==============================] - 25s 43ms/step - loss: 657.1761 - val_loss: 631.9144\n",
            "Epoch 4/50\n",
            "572/573 [============================>.] - ETA: 0s - loss: 652.9554\n",
            "Epoch 4: val_loss improved from 631.91443 to 629.99280, saving model to vae_model_dim_5.h5\n"
          ]
        },
        {
          "output_type": "stream",
          "name": "stderr",
          "text": [
            "WARNING:tensorflow:Found duplicated `Variable`s in Model's `weights`. This is usually caused by `Variable`s being shared by Layers in the Model. These `Variable`s will be treated as separate `Variable`s when the Model is restored. To avoid this, please save with `save_format=\"tf\"`.\n"
          ]
        },
        {
          "output_type": "stream",
          "name": "stdout",
          "text": [
            "\b\b\b\b\b\b\b\b\b\b\b\b\b\b\b\b\b\b\b\b\b\b\b\b\b\b\b\b\b\b\b\b\b\b\b\b\b\b\b\b\b\b\b\b\b\b\b\b\b\b\b\b\b\b\b\b\b\b\b\b\b\b\b\b\b\b\b\r573/573 [==============================] - 24s 43ms/step - loss: 652.9543 - val_loss: 629.9928\n",
            "Epoch 5/50\n",
            "572/573 [============================>.] - ETA: 0s - loss: 651.6427\n",
            "Epoch 5: val_loss improved from 629.99280 to 629.01154, saving model to vae_model_dim_5.h5\n"
          ]
        },
        {
          "output_type": "stream",
          "name": "stderr",
          "text": [
            "WARNING:tensorflow:Found duplicated `Variable`s in Model's `weights`. This is usually caused by `Variable`s being shared by Layers in the Model. These `Variable`s will be treated as separate `Variable`s when the Model is restored. To avoid this, please save with `save_format=\"tf\"`.\n"
          ]
        },
        {
          "output_type": "stream",
          "name": "stdout",
          "text": [
            "\b\b\b\b\b\b\b\b\b\b\b\b\b\b\b\b\b\b\b\b\b\b\b\b\b\b\b\b\b\b\b\b\b\b\b\b\b\b\b\b\b\b\b\b\b\b\b\b\b\b\b\b\b\b\b\b\b\b\b\b\b\b\b\b\b\b\b\r573/573 [==============================] - 25s 43ms/step - loss: 651.6512 - val_loss: 629.0115\n",
            "Epoch 6/50\n",
            "572/573 [============================>.] - ETA: 0s - loss: 650.8557\n",
            "Epoch 6: val_loss improved from 629.01154 to 628.49268, saving model to vae_model_dim_5.h5\n"
          ]
        },
        {
          "output_type": "stream",
          "name": "stderr",
          "text": [
            "WARNING:tensorflow:Found duplicated `Variable`s in Model's `weights`. This is usually caused by `Variable`s being shared by Layers in the Model. These `Variable`s will be treated as separate `Variable`s when the Model is restored. To avoid this, please save with `save_format=\"tf\"`.\n"
          ]
        },
        {
          "output_type": "stream",
          "name": "stdout",
          "text": [
            "\b\b\b\b\b\b\b\b\b\b\b\b\b\b\b\b\b\b\b\b\b\b\b\b\b\b\b\b\b\b\b\b\b\b\b\b\b\b\b\b\b\b\b\b\b\b\b\b\b\b\b\b\b\b\b\b\b\b\b\b\b\b\b\b\b\b\b\r573/573 [==============================] - 25s 43ms/step - loss: 650.8525 - val_loss: 628.4927\n",
            "Epoch 7/50\n",
            "573/573 [==============================] - ETA: 0s - loss: 650.2342\n",
            "Epoch 7: val_loss improved from 628.49268 to 628.17181, saving model to vae_model_dim_5.h5\n"
          ]
        },
        {
          "output_type": "stream",
          "name": "stderr",
          "text": [
            "WARNING:tensorflow:Found duplicated `Variable`s in Model's `weights`. This is usually caused by `Variable`s being shared by Layers in the Model. These `Variable`s will be treated as separate `Variable`s when the Model is restored. To avoid this, please save with `save_format=\"tf\"`.\n"
          ]
        },
        {
          "output_type": "stream",
          "name": "stdout",
          "text": [
            "\b\b\b\b\b\b\b\b\b\b\b\b\b\b\b\b\b\b\b\b\b\b\b\b\b\b\b\b\b\b\b\b\b\b\b\b\b\b\b\b\b\b\b\b\b\b\b\b\b\b\b\b\b\b\b\b\b\b\b\b\b\b\b\b\b\b\b\r573/573 [==============================] - 25s 43ms/step - loss: 650.2342 - val_loss: 628.1718\n",
            "Epoch 8/50\n",
            "573/573 [==============================] - ETA: 0s - loss: 649.8616\n",
            "Epoch 8: val_loss improved from 628.17181 to 627.89215, saving model to vae_model_dim_5.h5\n"
          ]
        },
        {
          "output_type": "stream",
          "name": "stderr",
          "text": [
            "WARNING:tensorflow:Found duplicated `Variable`s in Model's `weights`. This is usually caused by `Variable`s being shared by Layers in the Model. These `Variable`s will be treated as separate `Variable`s when the Model is restored. To avoid this, please save with `save_format=\"tf\"`.\n"
          ]
        },
        {
          "output_type": "stream",
          "name": "stdout",
          "text": [
            "\b\b\b\b\b\b\b\b\b\b\b\b\b\b\b\b\b\b\b\b\b\b\b\b\b\b\b\b\b\b\b\b\b\b\b\b\b\b\b\b\b\b\b\b\b\b\b\b\b\b\b\b\b\b\b\b\b\b\b\b\b\b\b\b\b\b\b\r573/573 [==============================] - 25s 43ms/step - loss: 649.8616 - val_loss: 627.8922\n",
            "Epoch 9/50\n",
            "573/573 [==============================] - ETA: 0s - loss: 649.6502\n",
            "Epoch 9: val_loss improved from 627.89215 to 627.75275, saving model to vae_model_dim_5.h5\n"
          ]
        },
        {
          "output_type": "stream",
          "name": "stderr",
          "text": [
            "WARNING:tensorflow:Found duplicated `Variable`s in Model's `weights`. This is usually caused by `Variable`s being shared by Layers in the Model. These `Variable`s will be treated as separate `Variable`s when the Model is restored. To avoid this, please save with `save_format=\"tf\"`.\n"
          ]
        },
        {
          "output_type": "stream",
          "name": "stdout",
          "text": [
            "\b\b\b\b\b\b\b\b\b\b\b\b\b\b\b\b\b\b\b\b\b\b\b\b\b\b\b\b\b\b\b\b\b\b\b\b\b\b\b\b\b\b\b\b\b\b\b\b\b\b\b\b\b\b\b\b\b\b\b\b\b\b\b\b\b\b\b\r573/573 [==============================] - 24s 42ms/step - loss: 649.6502 - val_loss: 627.7527\n",
            "Epoch 10/50\n",
            "573/573 [==============================] - ETA: 0s - loss: 649.5040\n",
            "Epoch 10: val_loss did not improve from 627.75275\n",
            "573/573 [==============================] - 25s 43ms/step - loss: 649.5040 - val_loss: 627.8203\n",
            "Epoch 11/50\n",
            "572/573 [============================>.] - ETA: 0s - loss: 649.4057\n",
            "Epoch 11: val_loss improved from 627.75275 to 627.46674, saving model to vae_model_dim_5.h5\n"
          ]
        },
        {
          "output_type": "stream",
          "name": "stderr",
          "text": [
            "WARNING:tensorflow:Found duplicated `Variable`s in Model's `weights`. This is usually caused by `Variable`s being shared by Layers in the Model. These `Variable`s will be treated as separate `Variable`s when the Model is restored. To avoid this, please save with `save_format=\"tf\"`.\n"
          ]
        },
        {
          "output_type": "stream",
          "name": "stdout",
          "text": [
            "\b\b\b\b\b\b\b\b\b\b\b\b\b\b\b\b\b\b\b\b\b\b\b\b\b\b\b\b\b\b\b\b\b\b\b\b\b\b\b\b\b\b\b\b\b\b\b\b\b\b\b\b\b\b\b\b\b\b\b\b\b\b\b\b\b\b\b\r573/573 [==============================] - 25s 43ms/step - loss: 649.4054 - val_loss: 627.4667\n",
            "Epoch 12/50\n",
            "573/573 [==============================] - ETA: 0s - loss: 649.3111\n",
            "Epoch 12: val_loss did not improve from 627.46674\n",
            "573/573 [==============================] - 24s 43ms/step - loss: 649.3111 - val_loss: 627.5024\n",
            "Epoch 13/50\n",
            "572/573 [============================>.] - ETA: 0s - loss: 649.2352\n",
            "Epoch 13: val_loss did not improve from 627.46674\n",
            "573/573 [==============================] - 24s 43ms/step - loss: 649.2358 - val_loss: 627.4947\n",
            "Epoch 14/50\n",
            "572/573 [============================>.] - ETA: 0s - loss: 649.1572\n",
            "Epoch 14: val_loss improved from 627.46674 to 627.44916, saving model to vae_model_dim_5.h5\n"
          ]
        },
        {
          "output_type": "stream",
          "name": "stderr",
          "text": [
            "WARNING:tensorflow:Found duplicated `Variable`s in Model's `weights`. This is usually caused by `Variable`s being shared by Layers in the Model. These `Variable`s will be treated as separate `Variable`s when the Model is restored. To avoid this, please save with `save_format=\"tf\"`.\n"
          ]
        },
        {
          "output_type": "stream",
          "name": "stdout",
          "text": [
            "\b\b\b\b\b\b\b\b\b\b\b\b\b\b\b\b\b\b\b\b\b\b\b\b\b\b\b\b\b\b\b\b\b\b\b\b\b\b\b\b\b\b\b\b\b\b\b\b\b\b\b\b\b\b\b\b\b\b\b\b\b\b\b\b\b\b\b\r573/573 [==============================] - 24s 43ms/step - loss: 649.1672 - val_loss: 627.4492\n",
            "Epoch 15/50\n",
            "572/573 [============================>.] - ETA: 0s - loss: 649.1013\n",
            "Epoch 15: val_loss improved from 627.44916 to 627.38635, saving model to vae_model_dim_5.h5\n"
          ]
        },
        {
          "output_type": "stream",
          "name": "stderr",
          "text": [
            "WARNING:tensorflow:Found duplicated `Variable`s in Model's `weights`. This is usually caused by `Variable`s being shared by Layers in the Model. These `Variable`s will be treated as separate `Variable`s when the Model is restored. To avoid this, please save with `save_format=\"tf\"`.\n"
          ]
        },
        {
          "output_type": "stream",
          "name": "stdout",
          "text": [
            "\b\b\b\b\b\b\b\b\b\b\b\b\b\b\b\b\b\b\b\b\b\b\b\b\b\b\b\b\b\b\b\b\b\b\b\b\b\b\b\b\b\b\b\b\b\b\b\b\b\b\b\b\b\b\b\b\b\b\b\b\b\b\b\b\b\b\b\r573/573 [==============================] - 25s 43ms/step - loss: 649.1027 - val_loss: 627.3864\n",
            "Epoch 16/50\n",
            "572/573 [============================>.] - ETA: 0s - loss: 649.0659\n",
            "Epoch 16: val_loss did not improve from 627.38635\n",
            "573/573 [==============================] - 24s 43ms/step - loss: 649.0694 - val_loss: 627.4543\n",
            "Epoch 17/50\n",
            "573/573 [==============================] - ETA: 0s - loss: 649.0079\n",
            "Epoch 17: val_loss improved from 627.38635 to 627.27875, saving model to vae_model_dim_5.h5\n"
          ]
        },
        {
          "output_type": "stream",
          "name": "stderr",
          "text": [
            "WARNING:tensorflow:Found duplicated `Variable`s in Model's `weights`. This is usually caused by `Variable`s being shared by Layers in the Model. These `Variable`s will be treated as separate `Variable`s when the Model is restored. To avoid this, please save with `save_format=\"tf\"`.\n"
          ]
        },
        {
          "output_type": "stream",
          "name": "stdout",
          "text": [
            "\b\b\b\b\b\b\b\b\b\b\b\b\b\b\b\b\b\b\b\b\b\b\b\b\b\b\b\b\b\b\b\b\b\b\b\b\b\b\b\b\b\b\b\b\b\b\b\b\b\b\b\b\b\b\b\b\b\b\b\b\b\b\b\b\b\b\b\r573/573 [==============================] - 25s 43ms/step - loss: 649.0079 - val_loss: 627.2787\n",
            "Epoch 18/50\n",
            "573/573 [==============================] - ETA: 0s - loss: 648.9521\n",
            "Epoch 18: val_loss improved from 627.27875 to 627.10901, saving model to vae_model_dim_5.h5\n"
          ]
        },
        {
          "output_type": "stream",
          "name": "stderr",
          "text": [
            "WARNING:tensorflow:Found duplicated `Variable`s in Model's `weights`. This is usually caused by `Variable`s being shared by Layers in the Model. These `Variable`s will be treated as separate `Variable`s when the Model is restored. To avoid this, please save with `save_format=\"tf\"`.\n"
          ]
        },
        {
          "output_type": "stream",
          "name": "stdout",
          "text": [
            "\b\b\b\b\b\b\b\b\b\b\b\b\b\b\b\b\b\b\b\b\b\b\b\b\b\b\b\b\b\b\b\b\b\b\b\b\b\b\b\b\b\b\b\b\b\b\b\b\b\b\b\b\b\b\b\b\b\b\b\b\b\b\b\b\b\b\b\r573/573 [==============================] - 25s 43ms/step - loss: 648.9521 - val_loss: 627.1090\n",
            "Epoch 19/50\n",
            "572/573 [============================>.] - ETA: 0s - loss: 648.9299\n",
            "Epoch 19: val_loss did not improve from 627.10901\n",
            "573/573 [==============================] - 25s 43ms/step - loss: 648.9236 - val_loss: 627.3789\n",
            "Epoch 20/50\n",
            "573/573 [==============================] - ETA: 0s - loss: 648.8581\n",
            "Epoch 20: val_loss did not improve from 627.10901\n",
            "573/573 [==============================] - 24s 43ms/step - loss: 648.8581 - val_loss: 627.2296\n",
            "Epoch 21/50\n",
            "572/573 [============================>.] - ETA: 0s - loss: 648.8188\n",
            "Epoch 21: val_loss improved from 627.10901 to 627.00366, saving model to vae_model_dim_5.h5\n"
          ]
        },
        {
          "output_type": "stream",
          "name": "stderr",
          "text": [
            "WARNING:tensorflow:Found duplicated `Variable`s in Model's `weights`. This is usually caused by `Variable`s being shared by Layers in the Model. These `Variable`s will be treated as separate `Variable`s when the Model is restored. To avoid this, please save with `save_format=\"tf\"`.\n"
          ]
        },
        {
          "output_type": "stream",
          "name": "stdout",
          "text": [
            "\b\b\b\b\b\b\b\b\b\b\b\b\b\b\b\b\b\b\b\b\b\b\b\b\b\b\b\b\b\b\b\b\b\b\b\b\b\b\b\b\b\b\b\b\b\b\b\b\b\b\b\b\b\b\b\b\b\b\b\b\b\b\b\b\b\b\b\r573/573 [==============================] - 25s 43ms/step - loss: 648.8181 - val_loss: 627.0037\n",
            "Epoch 22/50\n",
            "572/573 [============================>.] - ETA: 0s - loss: 648.7454\n",
            "Epoch 22: val_loss improved from 627.00366 to 626.93237, saving model to vae_model_dim_5.h5\n"
          ]
        },
        {
          "output_type": "stream",
          "name": "stderr",
          "text": [
            "WARNING:tensorflow:Found duplicated `Variable`s in Model's `weights`. This is usually caused by `Variable`s being shared by Layers in the Model. These `Variable`s will be treated as separate `Variable`s when the Model is restored. To avoid this, please save with `save_format=\"tf\"`.\n"
          ]
        },
        {
          "output_type": "stream",
          "name": "stdout",
          "text": [
            "\b\b\b\b\b\b\b\b\b\b\b\b\b\b\b\b\b\b\b\b\b\b\b\b\b\b\b\b\b\b\b\b\b\b\b\b\b\b\b\b\b\b\b\b\b\b\b\b\b\b\b\b\b\b\b\b\b\b\b\b\b\b\b\b\b\b\b\r573/573 [==============================] - 25s 43ms/step - loss: 648.7457 - val_loss: 626.9324\n",
            "Epoch 23/50\n",
            "573/573 [==============================] - ETA: 0s - loss: 648.6968\n",
            "Epoch 23: val_loss improved from 626.93237 to 626.90472, saving model to vae_model_dim_5.h5\n"
          ]
        },
        {
          "output_type": "stream",
          "name": "stderr",
          "text": [
            "WARNING:tensorflow:Found duplicated `Variable`s in Model's `weights`. This is usually caused by `Variable`s being shared by Layers in the Model. These `Variable`s will be treated as separate `Variable`s when the Model is restored. To avoid this, please save with `save_format=\"tf\"`.\n"
          ]
        },
        {
          "output_type": "stream",
          "name": "stdout",
          "text": [
            "\b\b\b\b\b\b\b\b\b\b\b\b\b\b\b\b\b\b\b\b\b\b\b\b\b\b\b\b\b\b\b\b\b\b\b\b\b\b\b\b\b\b\b\b\b\b\b\b\b\b\b\b\b\b\b\b\b\b\b\b\b\b\b\b\b\b\b\r573/573 [==============================] - 25s 43ms/step - loss: 648.6968 - val_loss: 626.9047\n",
            "Epoch 24/50\n",
            "572/573 [============================>.] - ETA: 0s - loss: 648.6643\n",
            "Epoch 24: val_loss improved from 626.90472 to 626.84045, saving model to vae_model_dim_5.h5\n"
          ]
        },
        {
          "output_type": "stream",
          "name": "stderr",
          "text": [
            "WARNING:tensorflow:Found duplicated `Variable`s in Model's `weights`. This is usually caused by `Variable`s being shared by Layers in the Model. These `Variable`s will be treated as separate `Variable`s when the Model is restored. To avoid this, please save with `save_format=\"tf\"`.\n"
          ]
        },
        {
          "output_type": "stream",
          "name": "stdout",
          "text": [
            "\b\b\b\b\b\b\b\b\b\b\b\b\b\b\b\b\b\b\b\b\b\b\b\b\b\b\b\b\b\b\b\b\b\b\b\b\b\b\b\b\b\b\b\b\b\b\b\b\b\b\b\b\b\b\b\b\b\b\b\b\b\b\b\b\b\b\b\r573/573 [==============================] - 25s 44ms/step - loss: 648.6717 - val_loss: 626.8405\n",
            "Epoch 25/50\n",
            "572/573 [============================>.] - ETA: 0s - loss: 648.6426\n",
            "Epoch 25: val_loss improved from 626.84045 to 626.76886, saving model to vae_model_dim_5.h5\n"
          ]
        },
        {
          "output_type": "stream",
          "name": "stderr",
          "text": [
            "WARNING:tensorflow:Found duplicated `Variable`s in Model's `weights`. This is usually caused by `Variable`s being shared by Layers in the Model. These `Variable`s will be treated as separate `Variable`s when the Model is restored. To avoid this, please save with `save_format=\"tf\"`.\n"
          ]
        },
        {
          "output_type": "stream",
          "name": "stdout",
          "text": [
            "\b\b\b\b\b\b\b\b\b\b\b\b\b\b\b\b\b\b\b\b\b\b\b\b\b\b\b\b\b\b\b\b\b\b\b\b\b\b\b\b\b\b\b\b\b\b\b\b\b\b\b\b\b\b\b\b\b\b\b\b\b\b\b\b\b\b\b\r573/573 [==============================] - 25s 44ms/step - loss: 648.6349 - val_loss: 626.7689\n",
            "Epoch 26/50\n",
            "572/573 [============================>.] - ETA: 0s - loss: 648.6076\n",
            "Epoch 26: val_loss improved from 626.76886 to 626.75031, saving model to vae_model_dim_5.h5\n"
          ]
        },
        {
          "output_type": "stream",
          "name": "stderr",
          "text": [
            "WARNING:tensorflow:Found duplicated `Variable`s in Model's `weights`. This is usually caused by `Variable`s being shared by Layers in the Model. These `Variable`s will be treated as separate `Variable`s when the Model is restored. To avoid this, please save with `save_format=\"tf\"`.\n"
          ]
        },
        {
          "output_type": "stream",
          "name": "stdout",
          "text": [
            "\b\b\b\b\b\b\b\b\b\b\b\b\b\b\b\b\b\b\b\b\b\b\b\b\b\b\b\b\b\b\b\b\b\b\b\b\b\b\b\b\b\b\b\b\b\b\b\b\b\b\b\b\b\b\b\b\b\b\b\b\b\b\b\b\b\b\b\r573/573 [==============================] - 25s 43ms/step - loss: 648.6024 - val_loss: 626.7503\n",
            "Epoch 27/50\n",
            "573/573 [==============================] - ETA: 0s - loss: 648.5753\n",
            "Epoch 27: val_loss improved from 626.75031 to 626.70691, saving model to vae_model_dim_5.h5\n"
          ]
        },
        {
          "output_type": "stream",
          "name": "stderr",
          "text": [
            "WARNING:tensorflow:Found duplicated `Variable`s in Model's `weights`. This is usually caused by `Variable`s being shared by Layers in the Model. These `Variable`s will be treated as separate `Variable`s when the Model is restored. To avoid this, please save with `save_format=\"tf\"`.\n"
          ]
        },
        {
          "output_type": "stream",
          "name": "stdout",
          "text": [
            "\b\b\b\b\b\b\b\b\b\b\b\b\b\b\b\b\b\b\b\b\b\b\b\b\b\b\b\b\b\b\b\b\b\b\b\b\b\b\b\b\b\b\b\b\b\b\b\b\b\b\b\b\b\b\b\b\b\b\b\b\b\b\b\b\b\b\b\r573/573 [==============================] - 25s 44ms/step - loss: 648.5753 - val_loss: 626.7069\n",
            "Epoch 28/50\n",
            "573/573 [==============================] - ETA: 0s - loss: 648.5493\n",
            "Epoch 28: val_loss improved from 626.70691 to 626.69330, saving model to vae_model_dim_5.h5\n"
          ]
        },
        {
          "output_type": "stream",
          "name": "stderr",
          "text": [
            "WARNING:tensorflow:Found duplicated `Variable`s in Model's `weights`. This is usually caused by `Variable`s being shared by Layers in the Model. These `Variable`s will be treated as separate `Variable`s when the Model is restored. To avoid this, please save with `save_format=\"tf\"`.\n"
          ]
        },
        {
          "output_type": "stream",
          "name": "stdout",
          "text": [
            "\b\b\b\b\b\b\b\b\b\b\b\b\b\b\b\b\b\b\b\b\b\b\b\b\b\b\b\b\b\b\b\b\b\b\b\b\b\b\b\b\b\b\b\b\b\b\b\b\b\b\b\b\b\b\b\b\b\b\b\b\b\b\b\b\b\b\b\r573/573 [==============================] - 25s 43ms/step - loss: 648.5493 - val_loss: 626.6933\n",
            "Epoch 29/50\n",
            "572/573 [============================>.] - ETA: 0s - loss: 648.5455\n",
            "Epoch 29: val_loss did not improve from 626.69330\n",
            "573/573 [==============================] - 25s 43ms/step - loss: 648.5413 - val_loss: 626.7422\n",
            "Epoch 30/50\n",
            "572/573 [============================>.] - ETA: 0s - loss: 648.5006\n",
            "Epoch 30: val_loss improved from 626.69330 to 626.65076, saving model to vae_model_dim_5.h5\n"
          ]
        },
        {
          "output_type": "stream",
          "name": "stderr",
          "text": [
            "WARNING:tensorflow:Found duplicated `Variable`s in Model's `weights`. This is usually caused by `Variable`s being shared by Layers in the Model. These `Variable`s will be treated as separate `Variable`s when the Model is restored. To avoid this, please save with `save_format=\"tf\"`.\n"
          ]
        },
        {
          "output_type": "stream",
          "name": "stdout",
          "text": [
            "\b\b\b\b\b\b\b\b\b\b\b\b\b\b\b\b\b\b\b\b\b\b\b\b\b\b\b\b\b\b\b\b\b\b\b\b\b\b\b\b\b\b\b\b\b\b\b\b\b\b\b\b\b\b\b\b\b\b\b\b\b\b\b\b\b\b\b\r573/573 [==============================] - 25s 44ms/step - loss: 648.5013 - val_loss: 626.6508\n",
            "Epoch 31/50\n",
            "573/573 [==============================] - ETA: 0s - loss: 648.4965\n",
            "Epoch 31: val_loss did not improve from 626.65076\n",
            "573/573 [==============================] - 25s 44ms/step - loss: 648.4965 - val_loss: 626.7000\n",
            "Epoch 32/50\n",
            "572/573 [============================>.] - ETA: 0s - loss: 648.4794\n",
            "Epoch 32: val_loss improved from 626.65076 to 626.55042, saving model to vae_model_dim_5.h5\n"
          ]
        },
        {
          "output_type": "stream",
          "name": "stderr",
          "text": [
            "WARNING:tensorflow:Found duplicated `Variable`s in Model's `weights`. This is usually caused by `Variable`s being shared by Layers in the Model. These `Variable`s will be treated as separate `Variable`s when the Model is restored. To avoid this, please save with `save_format=\"tf\"`.\n"
          ]
        },
        {
          "output_type": "stream",
          "name": "stdout",
          "text": [
            "\b\b\b\b\b\b\b\b\b\b\b\b\b\b\b\b\b\b\b\b\b\b\b\b\b\b\b\b\b\b\b\b\b\b\b\b\b\b\b\b\b\b\b\b\b\b\b\b\b\b\b\b\b\b\b\b\b\b\b\b\b\b\b\b\b\b\b\r573/573 [==============================] - 25s 44ms/step - loss: 648.4719 - val_loss: 626.5504\n",
            "Epoch 33/50\n",
            "572/573 [============================>.] - ETA: 0s - loss: 648.4684\n",
            "Epoch 33: val_loss improved from 626.55042 to 626.53595, saving model to vae_model_dim_5.h5\n"
          ]
        },
        {
          "output_type": "stream",
          "name": "stderr",
          "text": [
            "WARNING:tensorflow:Found duplicated `Variable`s in Model's `weights`. This is usually caused by `Variable`s being shared by Layers in the Model. These `Variable`s will be treated as separate `Variable`s when the Model is restored. To avoid this, please save with `save_format=\"tf\"`.\n"
          ]
        },
        {
          "output_type": "stream",
          "name": "stdout",
          "text": [
            "\b\b\b\b\b\b\b\b\b\b\b\b\b\b\b\b\b\b\b\b\b\b\b\b\b\b\b\b\b\b\b\b\b\b\b\b\b\b\b\b\b\b\b\b\b\b\b\b\b\b\b\b\b\b\b\b\b\b\b\b\b\b\b\b\b\b\b\r573/573 [==============================] - 25s 44ms/step - loss: 648.4710 - val_loss: 626.5359\n",
            "Epoch 34/50\n",
            "573/573 [==============================] - ETA: 0s - loss: 648.4387\n",
            "Epoch 34: val_loss did not improve from 626.53595\n",
            "573/573 [==============================] - 25s 43ms/step - loss: 648.4387 - val_loss: 626.5710\n",
            "Epoch 35/50\n",
            "572/573 [============================>.] - ETA: 0s - loss: 648.4276\n",
            "Epoch 35: val_loss improved from 626.53595 to 626.41852, saving model to vae_model_dim_5.h5\n"
          ]
        },
        {
          "output_type": "stream",
          "name": "stderr",
          "text": [
            "WARNING:tensorflow:Found duplicated `Variable`s in Model's `weights`. This is usually caused by `Variable`s being shared by Layers in the Model. These `Variable`s will be treated as separate `Variable`s when the Model is restored. To avoid this, please save with `save_format=\"tf\"`.\n"
          ]
        },
        {
          "output_type": "stream",
          "name": "stdout",
          "text": [
            "\b\b\b\b\b\b\b\b\b\b\b\b\b\b\b\b\b\b\b\b\b\b\b\b\b\b\b\b\b\b\b\b\b\b\b\b\b\b\b\b\b\b\b\b\b\b\b\b\b\b\b\b\b\b\b\b\b\b\b\b\b\b\b\b\b\b\b\r573/573 [==============================] - 24s 43ms/step - loss: 648.4230 - val_loss: 626.4185\n",
            "Epoch 36/50\n",
            "572/573 [============================>.] - ETA: 0s - loss: 648.4188\n",
            "Epoch 36: val_loss did not improve from 626.41852\n",
            "573/573 [==============================] - 24s 43ms/step - loss: 648.4042 - val_loss: 626.5620\n",
            "Epoch 37/50\n",
            "572/573 [============================>.] - ETA: 0s - loss: 648.3943\n",
            "Epoch 37: val_loss did not improve from 626.41852\n",
            "573/573 [==============================] - 24s 43ms/step - loss: 648.3976 - val_loss: 626.5955\n",
            "Epoch 38/50\n",
            "573/573 [==============================] - ETA: 0s - loss: 648.3889\n",
            "Epoch 38: val_loss did not improve from 626.41852\n",
            "573/573 [==============================] - 24s 42ms/step - loss: 648.3889 - val_loss: 626.5764\n",
            "Epoch 39/50\n",
            "573/573 [==============================] - ETA: 0s - loss: 648.3846\n",
            "Epoch 39: val_loss did not improve from 626.41852\n",
            "573/573 [==============================] - 24s 42ms/step - loss: 648.3846 - val_loss: 626.4764\n",
            "Epoch 40/50\n",
            "573/573 [==============================] - ETA: 0s - loss: 648.3671\n",
            "Epoch 40: val_loss did not improve from 626.41852\n",
            "573/573 [==============================] - 24s 42ms/step - loss: 648.3671 - val_loss: 626.4357\n",
            "Epoch 41/50\n",
            "572/573 [============================>.] - ETA: 0s - loss: 648.3491\n",
            "Epoch 41: val_loss did not improve from 626.41852\n",
            "573/573 [==============================] - 24s 42ms/step - loss: 648.3502 - val_loss: 626.5583\n",
            "Epoch 42/50\n",
            "572/573 [============================>.] - ETA: 0s - loss: 648.3424\n",
            "Epoch 42: val_loss did not improve from 626.41852\n",
            "573/573 [==============================] - 24s 42ms/step - loss: 648.3448 - val_loss: 626.5605\n",
            "Epoch 43/50\n",
            "572/573 [============================>.] - ETA: 0s - loss: 648.3464\n",
            "Epoch 43: val_loss improved from 626.41852 to 626.37866, saving model to vae_model_dim_5.h5\n"
          ]
        },
        {
          "output_type": "stream",
          "name": "stderr",
          "text": [
            "WARNING:tensorflow:Found duplicated `Variable`s in Model's `weights`. This is usually caused by `Variable`s being shared by Layers in the Model. These `Variable`s will be treated as separate `Variable`s when the Model is restored. To avoid this, please save with `save_format=\"tf\"`.\n"
          ]
        },
        {
          "output_type": "stream",
          "name": "stdout",
          "text": [
            "\b\b\b\b\b\b\b\b\b\b\b\b\b\b\b\b\b\b\b\b\b\b\b\b\b\b\b\b\b\b\b\b\b\b\b\b\b\b\b\b\b\b\b\b\b\b\b\b\b\b\b\b\b\b\b\b\b\b\b\b\b\b\b\b\b\b\b\r573/573 [==============================] - 24s 42ms/step - loss: 648.3389 - val_loss: 626.3787\n",
            "Epoch 44/50\n",
            "573/573 [==============================] - ETA: 0s - loss: 648.3410\n",
            "Epoch 44: val_loss did not improve from 626.37866\n",
            "573/573 [==============================] - 24s 42ms/step - loss: 648.3410 - val_loss: 626.6679\n",
            "Epoch 45/50\n",
            "573/573 [==============================] - ETA: 0s - loss: 648.3273\n",
            "Epoch 45: val_loss improved from 626.37866 to 626.37689, saving model to vae_model_dim_5.h5\n"
          ]
        },
        {
          "output_type": "stream",
          "name": "stderr",
          "text": [
            "WARNING:tensorflow:Found duplicated `Variable`s in Model's `weights`. This is usually caused by `Variable`s being shared by Layers in the Model. These `Variable`s will be treated as separate `Variable`s when the Model is restored. To avoid this, please save with `save_format=\"tf\"`.\n"
          ]
        },
        {
          "output_type": "stream",
          "name": "stdout",
          "text": [
            "\b\b\b\b\b\b\b\b\b\b\b\b\b\b\b\b\b\b\b\b\b\b\b\b\b\b\b\b\b\b\b\b\b\b\b\b\b\b\b\b\b\b\b\b\b\b\b\b\b\b\b\b\b\b\b\b\b\b\b\b\b\b\b\b\b\b\b\r573/573 [==============================] - 24s 42ms/step - loss: 648.3273 - val_loss: 626.3769\n",
            "Epoch 46/50\n",
            "572/573 [============================>.] - ETA: 0s - loss: 648.3031\n",
            "Epoch 46: val_loss did not improve from 626.37689\n",
            "573/573 [==============================] - 24s 43ms/step - loss: 648.3113 - val_loss: 626.3809\n",
            "Epoch 47/50\n",
            "572/573 [============================>.] - ETA: 0s - loss: 648.3117\n",
            "Epoch 47: val_loss did not improve from 626.37689\n",
            "573/573 [==============================] - 24s 42ms/step - loss: 648.3152 - val_loss: 626.5326\n",
            "Epoch 48/50\n",
            "573/573 [==============================] - ETA: 0s - loss: 648.3093\n",
            "Epoch 48: val_loss improved from 626.37689 to 626.36749, saving model to vae_model_dim_5.h5\n"
          ]
        },
        {
          "output_type": "stream",
          "name": "stderr",
          "text": [
            "WARNING:tensorflow:Found duplicated `Variable`s in Model's `weights`. This is usually caused by `Variable`s being shared by Layers in the Model. These `Variable`s will be treated as separate `Variable`s when the Model is restored. To avoid this, please save with `save_format=\"tf\"`.\n"
          ]
        },
        {
          "output_type": "stream",
          "name": "stdout",
          "text": [
            "\b\b\b\b\b\b\b\b\b\b\b\b\b\b\b\b\b\b\b\b\b\b\b\b\b\b\b\b\b\b\b\b\b\b\b\b\b\b\b\b\b\b\b\b\b\b\b\b\b\b\b\b\b\b\b\b\b\b\b\b\b\b\b\b\b\b\b\r573/573 [==============================] - 24s 42ms/step - loss: 648.3093 - val_loss: 626.3675\n",
            "Epoch 49/50\n",
            "573/573 [==============================] - ETA: 0s - loss: 648.2943\n",
            "Epoch 49: val_loss did not improve from 626.36749\n",
            "573/573 [==============================] - 24s 42ms/step - loss: 648.2943 - val_loss: 626.3702\n",
            "Epoch 50/50\n",
            "572/573 [============================>.] - ETA: 0s - loss: 648.2885\n",
            "Epoch 50: val_loss did not improve from 626.36749\n",
            "573/573 [==============================] - 24s 42ms/step - loss: 648.2831 - val_loss: 626.4410\n",
            "Training VAE with latent dimension: 10\n",
            "Epoch 1/50\n",
            "572/573 [============================>.] - ETA: 0s - loss: 688.0605\n",
            "Epoch 1: val_loss improved from inf to 664.09387, saving model to vae_model_dim_10.h5\n"
          ]
        },
        {
          "output_type": "stream",
          "name": "stderr",
          "text": [
            "WARNING:tensorflow:Found duplicated `Variable`s in Model's `weights`. This is usually caused by `Variable`s being shared by Layers in the Model. These `Variable`s will be treated as separate `Variable`s when the Model is restored. To avoid this, please save with `save_format=\"tf\"`.\n"
          ]
        },
        {
          "output_type": "stream",
          "name": "stdout",
          "text": [
            "\b\b\b\b\b\b\b\b\b\b\b\b\b\b\b\b\b\b\b\b\b\b\b\b\b\b\b\b\b\b\b\b\b\b\b\b\b\b\b\b\b\b\b\b\b\b\b\b\b\b\b\b\b\b\b\b\b\b\b\b\b\b\b\b\b\b\b\r573/573 [==============================] - 28s 45ms/step - loss: 688.0510 - val_loss: 664.0939\n",
            "Epoch 2/50\n",
            "573/573 [==============================] - ETA: 0s - loss: 668.5399\n",
            "Epoch 2: val_loss improved from 664.09387 to 639.92059, saving model to vae_model_dim_10.h5\n"
          ]
        },
        {
          "output_type": "stream",
          "name": "stderr",
          "text": [
            "WARNING:tensorflow:Found duplicated `Variable`s in Model's `weights`. This is usually caused by `Variable`s being shared by Layers in the Model. These `Variable`s will be treated as separate `Variable`s when the Model is restored. To avoid this, please save with `save_format=\"tf\"`.\n"
          ]
        },
        {
          "output_type": "stream",
          "name": "stdout",
          "text": [
            "\b\b\b\b\b\b\b\b\b\b\b\b\b\b\b\b\b\b\b\b\b\b\b\b\b\b\b\b\b\b\b\b\b\b\b\b\b\b\b\b\b\b\b\b\b\b\b\b\b\b\b\b\b\b\b\b\b\b\b\b\b\b\b\b\b\b\b\r573/573 [==============================] - 25s 43ms/step - loss: 668.5399 - val_loss: 639.9206\n",
            "Epoch 3/50\n",
            "573/573 [==============================] - ETA: 0s - loss: 656.0425\n",
            "Epoch 3: val_loss improved from 639.92059 to 632.22900, saving model to vae_model_dim_10.h5\n"
          ]
        },
        {
          "output_type": "stream",
          "name": "stderr",
          "text": [
            "WARNING:tensorflow:Found duplicated `Variable`s in Model's `weights`. This is usually caused by `Variable`s being shared by Layers in the Model. These `Variable`s will be treated as separate `Variable`s when the Model is restored. To avoid this, please save with `save_format=\"tf\"`.\n"
          ]
        },
        {
          "output_type": "stream",
          "name": "stdout",
          "text": [
            "\b\b\b\b\b\b\b\b\b\b\b\b\b\b\b\b\b\b\b\b\b\b\b\b\b\b\b\b\b\b\b\b\b\b\b\b\b\b\b\b\b\b\b\b\b\b\b\b\b\b\b\b\b\b\b\b\b\b\b\b\b\b\b\b\b\b\b\r573/573 [==============================] - 24s 42ms/step - loss: 656.0425 - val_loss: 632.2290\n",
            "Epoch 4/50\n",
            "572/573 [============================>.] - ETA: 0s - loss: 653.1378\n",
            "Epoch 4: val_loss improved from 632.22900 to 630.39642, saving model to vae_model_dim_10.h5\n"
          ]
        },
        {
          "output_type": "stream",
          "name": "stderr",
          "text": [
            "WARNING:tensorflow:Found duplicated `Variable`s in Model's `weights`. This is usually caused by `Variable`s being shared by Layers in the Model. These `Variable`s will be treated as separate `Variable`s when the Model is restored. To avoid this, please save with `save_format=\"tf\"`.\n"
          ]
        },
        {
          "output_type": "stream",
          "name": "stdout",
          "text": [
            "\b\b\b\b\b\b\b\b\b\b\b\b\b\b\b\b\b\b\b\b\b\b\b\b\b\b\b\b\b\b\b\b\b\b\b\b\b\b\b\b\b\b\b\b\b\b\b\b\b\b\b\b\b\b\b\b\b\b\b\b\b\b\b\b\b\b\b\r573/573 [==============================] - 25s 43ms/step - loss: 653.1423 - val_loss: 630.3964\n",
            "Epoch 5/50\n",
            "572/573 [============================>.] - ETA: 0s - loss: 651.9037\n",
            "Epoch 5: val_loss improved from 630.39642 to 628.96857, saving model to vae_model_dim_10.h5\n"
          ]
        },
        {
          "output_type": "stream",
          "name": "stderr",
          "text": [
            "WARNING:tensorflow:Found duplicated `Variable`s in Model's `weights`. This is usually caused by `Variable`s being shared by Layers in the Model. These `Variable`s will be treated as separate `Variable`s when the Model is restored. To avoid this, please save with `save_format=\"tf\"`.\n"
          ]
        },
        {
          "output_type": "stream",
          "name": "stdout",
          "text": [
            "\b\b\b\b\b\b\b\b\b\b\b\b\b\b\b\b\b\b\b\b\b\b\b\b\b\b\b\b\b\b\b\b\b\b\b\b\b\b\b\b\b\b\b\b\b\b\b\b\b\b\b\b\b\b\b\b\b\b\b\b\b\b\b\b\b\b\b\r573/573 [==============================] - 25s 43ms/step - loss: 651.8925 - val_loss: 628.9686\n",
            "Epoch 6/50\n",
            "572/573 [============================>.] - ETA: 0s - loss: 650.6997\n",
            "Epoch 6: val_loss improved from 628.96857 to 628.00006, saving model to vae_model_dim_10.h5\n"
          ]
        },
        {
          "output_type": "stream",
          "name": "stderr",
          "text": [
            "WARNING:tensorflow:Found duplicated `Variable`s in Model's `weights`. This is usually caused by `Variable`s being shared by Layers in the Model. These `Variable`s will be treated as separate `Variable`s when the Model is restored. To avoid this, please save with `save_format=\"tf\"`.\n"
          ]
        },
        {
          "output_type": "stream",
          "name": "stdout",
          "text": [
            "\b\b\b\b\b\b\b\b\b\b\b\b\b\b\b\b\b\b\b\b\b\b\b\b\b\b\b\b\b\b\b\b\b\b\b\b\b\b\b\b\b\b\b\b\b\b\b\b\b\b\b\b\b\b\b\b\b\b\b\b\b\b\b\b\b\b\b\r573/573 [==============================] - 25s 43ms/step - loss: 650.6984 - val_loss: 628.0001\n",
            "Epoch 7/50\n",
            "573/573 [==============================] - ETA: 0s - loss: 649.6844\n",
            "Epoch 7: val_loss improved from 628.00006 to 626.81750, saving model to vae_model_dim_10.h5\n"
          ]
        },
        {
          "output_type": "stream",
          "name": "stderr",
          "text": [
            "WARNING:tensorflow:Found duplicated `Variable`s in Model's `weights`. This is usually caused by `Variable`s being shared by Layers in the Model. These `Variable`s will be treated as separate `Variable`s when the Model is restored. To avoid this, please save with `save_format=\"tf\"`.\n"
          ]
        },
        {
          "output_type": "stream",
          "name": "stdout",
          "text": [
            "\b\b\b\b\b\b\b\b\b\b\b\b\b\b\b\b\b\b\b\b\b\b\b\b\b\b\b\b\b\b\b\b\b\b\b\b\b\b\b\b\b\b\b\b\b\b\b\b\b\b\b\b\b\b\b\b\b\b\b\b\b\b\b\b\b\b\b\r573/573 [==============================] - 25s 43ms/step - loss: 649.6844 - val_loss: 626.8175\n",
            "Epoch 8/50\n",
            "572/573 [============================>.] - ETA: 0s - loss: 648.9095\n",
            "Epoch 8: val_loss improved from 626.81750 to 625.72595, saving model to vae_model_dim_10.h5\n"
          ]
        },
        {
          "output_type": "stream",
          "name": "stderr",
          "text": [
            "WARNING:tensorflow:Found duplicated `Variable`s in Model's `weights`. This is usually caused by `Variable`s being shared by Layers in the Model. These `Variable`s will be treated as separate `Variable`s when the Model is restored. To avoid this, please save with `save_format=\"tf\"`.\n"
          ]
        },
        {
          "output_type": "stream",
          "name": "stdout",
          "text": [
            "\b\b\b\b\b\b\b\b\b\b\b\b\b\b\b\b\b\b\b\b\b\b\b\b\b\b\b\b\b\b\b\b\b\b\b\b\b\b\b\b\b\b\b\b\b\b\b\b\b\b\b\b\b\b\b\b\b\b\b\b\b\b\b\b\b\b\b\r573/573 [==============================] - 25s 43ms/step - loss: 648.9056 - val_loss: 625.7260\n",
            "Epoch 9/50\n",
            "572/573 [============================>.] - ETA: 0s - loss: 648.3480\n",
            "Epoch 9: val_loss improved from 625.72595 to 624.95575, saving model to vae_model_dim_10.h5\n"
          ]
        },
        {
          "output_type": "stream",
          "name": "stderr",
          "text": [
            "WARNING:tensorflow:Found duplicated `Variable`s in Model's `weights`. This is usually caused by `Variable`s being shared by Layers in the Model. These `Variable`s will be treated as separate `Variable`s when the Model is restored. To avoid this, please save with `save_format=\"tf\"`.\n"
          ]
        },
        {
          "output_type": "stream",
          "name": "stdout",
          "text": [
            "\b\b\b\b\b\b\b\b\b\b\b\b\b\b\b\b\b\b\b\b\b\b\b\b\b\b\b\b\b\b\b\b\b\b\b\b\b\b\b\b\b\b\b\b\b\b\b\b\b\b\b\b\b\b\b\b\b\b\b\b\b\b\b\b\b\b\b\r573/573 [==============================] - 25s 43ms/step - loss: 648.3477 - val_loss: 624.9557\n",
            "Epoch 10/50\n",
            "573/573 [==============================] - ETA: 0s - loss: 648.0323\n",
            "Epoch 10: val_loss improved from 624.95575 to 624.55292, saving model to vae_model_dim_10.h5\n"
          ]
        },
        {
          "output_type": "stream",
          "name": "stderr",
          "text": [
            "WARNING:tensorflow:Found duplicated `Variable`s in Model's `weights`. This is usually caused by `Variable`s being shared by Layers in the Model. These `Variable`s will be treated as separate `Variable`s when the Model is restored. To avoid this, please save with `save_format=\"tf\"`.\n"
          ]
        },
        {
          "output_type": "stream",
          "name": "stdout",
          "text": [
            "\b\b\b\b\b\b\b\b\b\b\b\b\b\b\b\b\b\b\b\b\b\b\b\b\b\b\b\b\b\b\b\b\b\b\b\b\b\b\b\b\b\b\b\b\b\b\b\b\b\b\b\b\b\b\b\b\b\b\b\b\b\b\b\b\b\b\b\r573/573 [==============================] - 24s 43ms/step - loss: 648.0323 - val_loss: 624.5529\n",
            "Epoch 11/50\n",
            "572/573 [============================>.] - ETA: 0s - loss: 647.8372\n",
            "Epoch 11: val_loss improved from 624.55292 to 624.35870, saving model to vae_model_dim_10.h5\n"
          ]
        },
        {
          "output_type": "stream",
          "name": "stderr",
          "text": [
            "WARNING:tensorflow:Found duplicated `Variable`s in Model's `weights`. This is usually caused by `Variable`s being shared by Layers in the Model. These `Variable`s will be treated as separate `Variable`s when the Model is restored. To avoid this, please save with `save_format=\"tf\"`.\n"
          ]
        },
        {
          "output_type": "stream",
          "name": "stdout",
          "text": [
            "\b\b\b\b\b\b\b\b\b\b\b\b\b\b\b\b\b\b\b\b\b\b\b\b\b\b\b\b\b\b\b\b\b\b\b\b\b\b\b\b\b\b\b\b\b\b\b\b\b\b\b\b\b\b\b\b\b\b\b\b\b\b\b\b\b\b\b\r573/573 [==============================] - 25s 43ms/step - loss: 647.8392 - val_loss: 624.3587\n",
            "Epoch 12/50\n",
            "573/573 [==============================] - ETA: 0s - loss: 647.6874\n",
            "Epoch 12: val_loss improved from 624.35870 to 624.24609, saving model to vae_model_dim_10.h5\n"
          ]
        },
        {
          "output_type": "stream",
          "name": "stderr",
          "text": [
            "WARNING:tensorflow:Found duplicated `Variable`s in Model's `weights`. This is usually caused by `Variable`s being shared by Layers in the Model. These `Variable`s will be treated as separate `Variable`s when the Model is restored. To avoid this, please save with `save_format=\"tf\"`.\n"
          ]
        },
        {
          "output_type": "stream",
          "name": "stdout",
          "text": [
            "\b\b\b\b\b\b\b\b\b\b\b\b\b\b\b\b\b\b\b\b\b\b\b\b\b\b\b\b\b\b\b\b\b\b\b\b\b\b\b\b\b\b\b\b\b\b\b\b\b\b\b\b\b\b\b\b\b\b\b\b\b\b\b\b\b\b\b\r573/573 [==============================] - 25s 44ms/step - loss: 647.6874 - val_loss: 624.2461\n",
            "Epoch 13/50\n",
            "573/573 [==============================] - ETA: 0s - loss: 647.5663\n",
            "Epoch 13: val_loss improved from 624.24609 to 624.13861, saving model to vae_model_dim_10.h5\n"
          ]
        },
        {
          "output_type": "stream",
          "name": "stderr",
          "text": [
            "WARNING:tensorflow:Found duplicated `Variable`s in Model's `weights`. This is usually caused by `Variable`s being shared by Layers in the Model. These `Variable`s will be treated as separate `Variable`s when the Model is restored. To avoid this, please save with `save_format=\"tf\"`.\n"
          ]
        },
        {
          "output_type": "stream",
          "name": "stdout",
          "text": [
            "\b\b\b\b\b\b\b\b\b\b\b\b\b\b\b\b\b\b\b\b\b\b\b\b\b\b\b\b\b\b\b\b\b\b\b\b\b\b\b\b\b\b\b\b\b\b\b\b\b\b\b\b\b\b\b\b\b\b\b\b\b\b\b\b\b\b\b\r573/573 [==============================] - 25s 44ms/step - loss: 647.5663 - val_loss: 624.1386\n",
            "Epoch 14/50\n",
            "572/573 [============================>.] - ETA: 0s - loss: 647.4664\n",
            "Epoch 14: val_loss improved from 624.13861 to 624.06000, saving model to vae_model_dim_10.h5\n"
          ]
        },
        {
          "output_type": "stream",
          "name": "stderr",
          "text": [
            "WARNING:tensorflow:Found duplicated `Variable`s in Model's `weights`. This is usually caused by `Variable`s being shared by Layers in the Model. These `Variable`s will be treated as separate `Variable`s when the Model is restored. To avoid this, please save with `save_format=\"tf\"`.\n"
          ]
        },
        {
          "output_type": "stream",
          "name": "stdout",
          "text": [
            "\b\b\b\b\b\b\b\b\b\b\b\b\b\b\b\b\b\b\b\b\b\b\b\b\b\b\b\b\b\b\b\b\b\b\b\b\b\b\b\b\b\b\b\b\b\b\b\b\b\b\b\b\b\b\b\b\b\b\b\b\b\b\b\b\b\b\b\r573/573 [==============================] - 25s 44ms/step - loss: 647.4691 - val_loss: 624.0600\n",
            "Epoch 15/50\n",
            "573/573 [==============================] - ETA: 0s - loss: 647.3821\n",
            "Epoch 15: val_loss improved from 624.06000 to 623.97925, saving model to vae_model_dim_10.h5\n"
          ]
        },
        {
          "output_type": "stream",
          "name": "stderr",
          "text": [
            "WARNING:tensorflow:Found duplicated `Variable`s in Model's `weights`. This is usually caused by `Variable`s being shared by Layers in the Model. These `Variable`s will be treated as separate `Variable`s when the Model is restored. To avoid this, please save with `save_format=\"tf\"`.\n"
          ]
        },
        {
          "output_type": "stream",
          "name": "stdout",
          "text": [
            "\b\b\b\b\b\b\b\b\b\b\b\b\b\b\b\b\b\b\b\b\b\b\b\b\b\b\b\b\b\b\b\b\b\b\b\b\b\b\b\b\b\b\b\b\b\b\b\b\b\b\b\b\b\b\b\b\b\b\b\b\b\b\b\b\b\b\b\r573/573 [==============================] - 25s 44ms/step - loss: 647.3821 - val_loss: 623.9792\n",
            "Epoch 16/50\n",
            "572/573 [============================>.] - ETA: 0s - loss: 647.3345\n",
            "Epoch 16: val_loss did not improve from 623.97925\n",
            "573/573 [==============================] - 25s 43ms/step - loss: 647.3387 - val_loss: 623.9897\n",
            "Epoch 17/50\n",
            "572/573 [============================>.] - ETA: 0s - loss: 647.2651\n",
            "Epoch 17: val_loss improved from 623.97925 to 623.84998, saving model to vae_model_dim_10.h5\n"
          ]
        },
        {
          "output_type": "stream",
          "name": "stderr",
          "text": [
            "WARNING:tensorflow:Found duplicated `Variable`s in Model's `weights`. This is usually caused by `Variable`s being shared by Layers in the Model. These `Variable`s will be treated as separate `Variable`s when the Model is restored. To avoid this, please save with `save_format=\"tf\"`.\n"
          ]
        },
        {
          "output_type": "stream",
          "name": "stdout",
          "text": [
            "\b\b\b\b\b\b\b\b\b\b\b\b\b\b\b\b\b\b\b\b\b\b\b\b\b\b\b\b\b\b\b\b\b\b\b\b\b\b\b\b\b\b\b\b\b\b\b\b\b\b\b\b\b\b\b\b\b\b\b\b\b\b\b\b\b\b\b\r573/573 [==============================] - 25s 43ms/step - loss: 647.2723 - val_loss: 623.8500\n",
            "Epoch 18/50\n",
            "573/573 [==============================] - ETA: 0s - loss: 647.2148\n",
            "Epoch 18: val_loss did not improve from 623.84998\n",
            "573/573 [==============================] - 25s 43ms/step - loss: 647.2148 - val_loss: 623.8674\n",
            "Epoch 19/50\n",
            "573/573 [==============================] - ETA: 0s - loss: 647.1724\n",
            "Epoch 19: val_loss improved from 623.84998 to 623.77979, saving model to vae_model_dim_10.h5\n"
          ]
        },
        {
          "output_type": "stream",
          "name": "stderr",
          "text": [
            "WARNING:tensorflow:Found duplicated `Variable`s in Model's `weights`. This is usually caused by `Variable`s being shared by Layers in the Model. These `Variable`s will be treated as separate `Variable`s when the Model is restored. To avoid this, please save with `save_format=\"tf\"`.\n"
          ]
        },
        {
          "output_type": "stream",
          "name": "stdout",
          "text": [
            "\b\b\b\b\b\b\b\b\b\b\b\b\b\b\b\b\b\b\b\b\b\b\b\b\b\b\b\b\b\b\b\b\b\b\b\b\b\b\b\b\b\b\b\b\b\b\b\b\b\b\b\b\b\b\b\b\b\b\b\b\b\b\b\b\b\b\b\r573/573 [==============================] - 25s 43ms/step - loss: 647.1724 - val_loss: 623.7798\n",
            "Epoch 20/50\n",
            "573/573 [==============================] - ETA: 0s - loss: 647.1216\n",
            "Epoch 20: val_loss improved from 623.77979 to 623.68011, saving model to vae_model_dim_10.h5\n"
          ]
        },
        {
          "output_type": "stream",
          "name": "stderr",
          "text": [
            "WARNING:tensorflow:Found duplicated `Variable`s in Model's `weights`. This is usually caused by `Variable`s being shared by Layers in the Model. These `Variable`s will be treated as separate `Variable`s when the Model is restored. To avoid this, please save with `save_format=\"tf\"`.\n"
          ]
        },
        {
          "output_type": "stream",
          "name": "stdout",
          "text": [
            "\b\b\b\b\b\b\b\b\b\b\b\b\b\b\b\b\b\b\b\b\b\b\b\b\b\b\b\b\b\b\b\b\b\b\b\b\b\b\b\b\b\b\b\b\b\b\b\b\b\b\b\b\b\b\b\b\b\b\b\b\b\b\b\b\b\b\b\r573/573 [==============================] - 25s 43ms/step - loss: 647.1216 - val_loss: 623.6801\n",
            "Epoch 21/50\n",
            "573/573 [==============================] - ETA: 0s - loss: 647.0870\n",
            "Epoch 21: val_loss did not improve from 623.68011\n",
            "573/573 [==============================] - 25s 43ms/step - loss: 647.0870 - val_loss: 623.6962\n",
            "Epoch 22/50\n",
            "572/573 [============================>.] - ETA: 0s - loss: 647.0505\n",
            "Epoch 22: val_loss improved from 623.68011 to 623.62714, saving model to vae_model_dim_10.h5\n"
          ]
        },
        {
          "output_type": "stream",
          "name": "stderr",
          "text": [
            "WARNING:tensorflow:Found duplicated `Variable`s in Model's `weights`. This is usually caused by `Variable`s being shared by Layers in the Model. These `Variable`s will be treated as separate `Variable`s when the Model is restored. To avoid this, please save with `save_format=\"tf\"`.\n"
          ]
        },
        {
          "output_type": "stream",
          "name": "stdout",
          "text": [
            "\b\b\b\b\b\b\b\b\b\b\b\b\b\b\b\b\b\b\b\b\b\b\b\b\b\b\b\b\b\b\b\b\b\b\b\b\b\b\b\b\b\b\b\b\b\b\b\b\b\b\b\b\b\b\b\b\b\b\b\b\b\b\b\b\b\b\b\r573/573 [==============================] - 25s 43ms/step - loss: 647.0383 - val_loss: 623.6271\n",
            "Epoch 23/50\n",
            "573/573 [==============================] - ETA: 0s - loss: 647.0191\n",
            "Epoch 23: val_loss improved from 623.62714 to 623.59509, saving model to vae_model_dim_10.h5\n"
          ]
        },
        {
          "output_type": "stream",
          "name": "stderr",
          "text": [
            "WARNING:tensorflow:Found duplicated `Variable`s in Model's `weights`. This is usually caused by `Variable`s being shared by Layers in the Model. These `Variable`s will be treated as separate `Variable`s when the Model is restored. To avoid this, please save with `save_format=\"tf\"`.\n"
          ]
        },
        {
          "output_type": "stream",
          "name": "stdout",
          "text": [
            "\b\b\b\b\b\b\b\b\b\b\b\b\b\b\b\b\b\b\b\b\b\b\b\b\b\b\b\b\b\b\b\b\b\b\b\b\b\b\b\b\b\b\b\b\b\b\b\b\b\b\b\b\b\b\b\b\b\b\b\b\b\b\b\b\b\b\b\r573/573 [==============================] - 25s 43ms/step - loss: 647.0191 - val_loss: 623.5951\n",
            "Epoch 24/50\n",
            "573/573 [==============================] - ETA: 0s - loss: 646.9982\n",
            "Epoch 24: val_loss did not improve from 623.59509\n",
            "573/573 [==============================] - 25s 43ms/step - loss: 646.9982 - val_loss: 623.6332\n",
            "Epoch 25/50\n",
            "573/573 [==============================] - ETA: 0s - loss: 646.9708\n",
            "Epoch 25: val_loss did not improve from 623.59509\n",
            "573/573 [==============================] - 25s 43ms/step - loss: 646.9708 - val_loss: 623.5986\n",
            "Epoch 26/50\n",
            "573/573 [==============================] - ETA: 0s - loss: 646.9339\n",
            "Epoch 26: val_loss improved from 623.59509 to 623.46857, saving model to vae_model_dim_10.h5\n"
          ]
        },
        {
          "output_type": "stream",
          "name": "stderr",
          "text": [
            "WARNING:tensorflow:Found duplicated `Variable`s in Model's `weights`. This is usually caused by `Variable`s being shared by Layers in the Model. These `Variable`s will be treated as separate `Variable`s when the Model is restored. To avoid this, please save with `save_format=\"tf\"`.\n"
          ]
        },
        {
          "output_type": "stream",
          "name": "stdout",
          "text": [
            "\b\b\b\b\b\b\b\b\b\b\b\b\b\b\b\b\b\b\b\b\b\b\b\b\b\b\b\b\b\b\b\b\b\b\b\b\b\b\b\b\b\b\b\b\b\b\b\b\b\b\b\b\b\b\b\b\b\b\b\b\b\b\b\b\b\b\b\r573/573 [==============================] - 25s 43ms/step - loss: 646.9339 - val_loss: 623.4686\n",
            "Epoch 27/50\n",
            "572/573 [============================>.] - ETA: 0s - loss: 646.9171\n",
            "Epoch 27: val_loss did not improve from 623.46857\n",
            "573/573 [==============================] - 25s 44ms/step - loss: 646.9252 - val_loss: 623.5161\n",
            "Epoch 28/50\n",
            "573/573 [==============================] - ETA: 0s - loss: 646.8970\n",
            "Epoch 28: val_loss did not improve from 623.46857\n",
            "573/573 [==============================] - 24s 43ms/step - loss: 646.8970 - val_loss: 623.5768\n",
            "Epoch 29/50\n",
            "573/573 [==============================] - ETA: 0s - loss: 646.8515\n",
            "Epoch 29: val_loss did not improve from 623.46857\n",
            "573/573 [==============================] - 25s 43ms/step - loss: 646.8515 - val_loss: 623.5189\n",
            "Epoch 30/50\n",
            "573/573 [==============================] - ETA: 0s - loss: 646.8431\n",
            "Epoch 30: val_loss did not improve from 623.46857\n",
            "573/573 [==============================] - 25s 43ms/step - loss: 646.8431 - val_loss: 623.6098\n",
            "Epoch 31/50\n",
            "573/573 [==============================] - ETA: 0s - loss: 646.8286\n",
            "Epoch 31: val_loss improved from 623.46857 to 623.42377, saving model to vae_model_dim_10.h5\n"
          ]
        },
        {
          "output_type": "stream",
          "name": "stderr",
          "text": [
            "WARNING:tensorflow:Found duplicated `Variable`s in Model's `weights`. This is usually caused by `Variable`s being shared by Layers in the Model. These `Variable`s will be treated as separate `Variable`s when the Model is restored. To avoid this, please save with `save_format=\"tf\"`.\n"
          ]
        },
        {
          "output_type": "stream",
          "name": "stdout",
          "text": [
            "\b\b\b\b\b\b\b\b\b\b\b\b\b\b\b\b\b\b\b\b\b\b\b\b\b\b\b\b\b\b\b\b\b\b\b\b\b\b\b\b\b\b\b\b\b\b\b\b\b\b\b\b\b\b\b\b\b\b\b\b\b\b\b\b\b\b\b\r573/573 [==============================] - 25s 44ms/step - loss: 646.8286 - val_loss: 623.4238\n",
            "Epoch 32/50\n",
            "573/573 [==============================] - ETA: 0s - loss: 646.7992\n",
            "Epoch 32: val_loss did not improve from 623.42377\n",
            "573/573 [==============================] - 25s 44ms/step - loss: 646.7992 - val_loss: 623.4849\n",
            "Epoch 33/50\n",
            "573/573 [==============================] - ETA: 0s - loss: 646.8051\n",
            "Epoch 33: val_loss did not improve from 623.42377\n",
            "573/573 [==============================] - 25s 43ms/step - loss: 646.8051 - val_loss: 623.4771\n",
            "Epoch 34/50\n",
            "572/573 [============================>.] - ETA: 0s - loss: 646.7886\n",
            "Epoch 34: val_loss improved from 623.42377 to 623.39380, saving model to vae_model_dim_10.h5\n"
          ]
        },
        {
          "output_type": "stream",
          "name": "stderr",
          "text": [
            "WARNING:tensorflow:Found duplicated `Variable`s in Model's `weights`. This is usually caused by `Variable`s being shared by Layers in the Model. These `Variable`s will be treated as separate `Variable`s when the Model is restored. To avoid this, please save with `save_format=\"tf\"`.\n"
          ]
        },
        {
          "output_type": "stream",
          "name": "stdout",
          "text": [
            "\b\b\b\b\b\b\b\b\b\b\b\b\b\b\b\b\b\b\b\b\b\b\b\b\b\b\b\b\b\b\b\b\b\b\b\b\b\b\b\b\b\b\b\b\b\b\b\b\b\b\b\b\b\b\b\b\b\b\b\b\b\b\b\b\b\b\b\r573/573 [==============================] - 25s 44ms/step - loss: 646.7916 - val_loss: 623.3938\n",
            "Epoch 35/50\n",
            "573/573 [==============================] - ETA: 0s - loss: 646.7591\n",
            "Epoch 35: val_loss improved from 623.39380 to 623.35999, saving model to vae_model_dim_10.h5\n"
          ]
        },
        {
          "output_type": "stream",
          "name": "stderr",
          "text": [
            "WARNING:tensorflow:Found duplicated `Variable`s in Model's `weights`. This is usually caused by `Variable`s being shared by Layers in the Model. These `Variable`s will be treated as separate `Variable`s when the Model is restored. To avoid this, please save with `save_format=\"tf\"`.\n"
          ]
        },
        {
          "output_type": "stream",
          "name": "stdout",
          "text": [
            "\b\b\b\b\b\b\b\b\b\b\b\b\b\b\b\b\b\b\b\b\b\b\b\b\b\b\b\b\b\b\b\b\b\b\b\b\b\b\b\b\b\b\b\b\b\b\b\b\b\b\b\b\b\b\b\b\b\b\b\b\b\b\b\b\b\b\b\r573/573 [==============================] - 25s 43ms/step - loss: 646.7591 - val_loss: 623.3600\n",
            "Epoch 36/50\n",
            "572/573 [============================>.] - ETA: 0s - loss: 646.7557\n",
            "Epoch 36: val_loss did not improve from 623.35999\n",
            "573/573 [==============================] - 25s 44ms/step - loss: 646.7646 - val_loss: 623.3889\n",
            "Epoch 37/50\n",
            "572/573 [============================>.] - ETA: 0s - loss: 646.7184\n",
            "Epoch 37: val_loss did not improve from 623.35999\n",
            "573/573 [==============================] - 25s 43ms/step - loss: 646.7171 - val_loss: 623.3616\n",
            "Epoch 38/50\n",
            "572/573 [============================>.] - ETA: 0s - loss: 646.6923\n",
            "Epoch 38: val_loss improved from 623.35999 to 623.31427, saving model to vae_model_dim_10.h5\n"
          ]
        },
        {
          "output_type": "stream",
          "name": "stderr",
          "text": [
            "WARNING:tensorflow:Found duplicated `Variable`s in Model's `weights`. This is usually caused by `Variable`s being shared by Layers in the Model. These `Variable`s will be treated as separate `Variable`s when the Model is restored. To avoid this, please save with `save_format=\"tf\"`.\n"
          ]
        },
        {
          "output_type": "stream",
          "name": "stdout",
          "text": [
            "\b\b\b\b\b\b\b\b\b\b\b\b\b\b\b\b\b\b\b\b\b\b\b\b\b\b\b\b\b\b\b\b\b\b\b\b\b\b\b\b\b\b\b\b\b\b\b\b\b\b\b\b\b\b\b\b\b\b\b\b\b\b\b\b\b\b\b\r573/573 [==============================] - 25s 43ms/step - loss: 646.6953 - val_loss: 623.3143\n",
            "Epoch 39/50\n",
            "572/573 [============================>.] - ETA: 0s - loss: 646.6998\n",
            "Epoch 39: val_loss improved from 623.31427 to 623.28479, saving model to vae_model_dim_10.h5\n"
          ]
        },
        {
          "output_type": "stream",
          "name": "stderr",
          "text": [
            "WARNING:tensorflow:Found duplicated `Variable`s in Model's `weights`. This is usually caused by `Variable`s being shared by Layers in the Model. These `Variable`s will be treated as separate `Variable`s when the Model is restored. To avoid this, please save with `save_format=\"tf\"`.\n"
          ]
        },
        {
          "output_type": "stream",
          "name": "stdout",
          "text": [
            "\b\b\b\b\b\b\b\b\b\b\b\b\b\b\b\b\b\b\b\b\b\b\b\b\b\b\b\b\b\b\b\b\b\b\b\b\b\b\b\b\b\b\b\b\b\b\b\b\b\b\b\b\b\b\b\b\b\b\b\b\b\b\b\b\b\b\b\r573/573 [==============================] - 25s 44ms/step - loss: 646.7020 - val_loss: 623.2848\n",
            "Epoch 40/50\n",
            "572/573 [============================>.] - ETA: 0s - loss: 646.6712\n",
            "Epoch 40: val_loss improved from 623.28479 to 623.23279, saving model to vae_model_dim_10.h5\n"
          ]
        },
        {
          "output_type": "stream",
          "name": "stderr",
          "text": [
            "WARNING:tensorflow:Found duplicated `Variable`s in Model's `weights`. This is usually caused by `Variable`s being shared by Layers in the Model. These `Variable`s will be treated as separate `Variable`s when the Model is restored. To avoid this, please save with `save_format=\"tf\"`.\n"
          ]
        },
        {
          "output_type": "stream",
          "name": "stdout",
          "text": [
            "\b\b\b\b\b\b\b\b\b\b\b\b\b\b\b\b\b\b\b\b\b\b\b\b\b\b\b\b\b\b\b\b\b\b\b\b\b\b\b\b\b\b\b\b\b\b\b\b\b\b\b\b\b\b\b\b\b\b\b\b\b\b\b\b\b\b\b\r573/573 [==============================] - 25s 44ms/step - loss: 646.6805 - val_loss: 623.2328\n",
            "Epoch 41/50\n",
            "573/573 [==============================] - ETA: 0s - loss: 646.6651\n",
            "Epoch 41: val_loss improved from 623.23279 to 623.22363, saving model to vae_model_dim_10.h5\n"
          ]
        },
        {
          "output_type": "stream",
          "name": "stderr",
          "text": [
            "WARNING:tensorflow:Found duplicated `Variable`s in Model's `weights`. This is usually caused by `Variable`s being shared by Layers in the Model. These `Variable`s will be treated as separate `Variable`s when the Model is restored. To avoid this, please save with `save_format=\"tf\"`.\n"
          ]
        },
        {
          "output_type": "stream",
          "name": "stdout",
          "text": [
            "\b\b\b\b\b\b\b\b\b\b\b\b\b\b\b\b\b\b\b\b\b\b\b\b\b\b\b\b\b\b\b\b\b\b\b\b\b\b\b\b\b\b\b\b\b\b\b\b\b\b\b\b\b\b\b\b\b\b\b\b\b\b\b\b\b\b\b\r573/573 [==============================] - 25s 43ms/step - loss: 646.6651 - val_loss: 623.2236\n",
            "Epoch 42/50\n",
            "572/573 [============================>.] - ETA: 0s - loss: 646.6429\n",
            "Epoch 42: val_loss did not improve from 623.22363\n",
            "573/573 [==============================] - 25s 44ms/step - loss: 646.6405 - val_loss: 623.5130\n",
            "Epoch 43/50\n",
            "572/573 [============================>.] - ETA: 0s - loss: 646.6705\n",
            "Epoch 43: val_loss did not improve from 623.22363\n",
            "573/573 [==============================] - 25s 43ms/step - loss: 646.6710 - val_loss: 623.3085\n",
            "Epoch 44/50\n",
            "572/573 [============================>.] - ETA: 0s - loss: 646.6232\n",
            "Epoch 44: val_loss did not improve from 623.22363\n",
            "573/573 [==============================] - 25s 44ms/step - loss: 646.6146 - val_loss: 623.2870\n",
            "Epoch 45/50\n",
            "573/573 [==============================] - ETA: 0s - loss: 646.6204\n",
            "Epoch 45: val_loss did not improve from 623.22363\n",
            "573/573 [==============================] - 25s 43ms/step - loss: 646.6204 - val_loss: 623.2908\n",
            "Epoch 46/50\n",
            "573/573 [==============================] - ETA: 0s - loss: 646.5939\n",
            "Epoch 46: val_loss did not improve from 623.22363\n",
            "573/573 [==============================] - 25s 43ms/step - loss: 646.5939 - val_loss: 623.2863\n",
            "Epoch 47/50\n",
            "572/573 [============================>.] - ETA: 0s - loss: 646.5964\n",
            "Epoch 47: val_loss did not improve from 623.22363\n",
            "573/573 [==============================] - 25s 43ms/step - loss: 646.5923 - val_loss: 623.2556\n",
            "Epoch 48/50\n",
            "572/573 [============================>.] - ETA: 0s - loss: 646.5792\n",
            "Epoch 48: val_loss did not improve from 623.22363\n",
            "573/573 [==============================] - 25s 43ms/step - loss: 646.5797 - val_loss: 623.2534\n",
            "Epoch 49/50\n",
            "573/573 [==============================] - ETA: 0s - loss: 646.5746\n",
            "Epoch 49: val_loss improved from 623.22363 to 623.20074, saving model to vae_model_dim_10.h5\n"
          ]
        },
        {
          "output_type": "stream",
          "name": "stderr",
          "text": [
            "WARNING:tensorflow:Found duplicated `Variable`s in Model's `weights`. This is usually caused by `Variable`s being shared by Layers in the Model. These `Variable`s will be treated as separate `Variable`s when the Model is restored. To avoid this, please save with `save_format=\"tf\"`.\n"
          ]
        },
        {
          "output_type": "stream",
          "name": "stdout",
          "text": [
            "\b\b\b\b\b\b\b\b\b\b\b\b\b\b\b\b\b\b\b\b\b\b\b\b\b\b\b\b\b\b\b\b\b\b\b\b\b\b\b\b\b\b\b\b\b\b\b\b\b\b\b\b\b\b\b\b\b\b\b\b\b\b\b\b\b\b\b\r573/573 [==============================] - 25s 43ms/step - loss: 646.5746 - val_loss: 623.2007\n",
            "Epoch 50/50\n",
            "572/573 [============================>.] - ETA: 0s - loss: 646.5529\n",
            "Epoch 50: val_loss did not improve from 623.20074\n",
            "573/573 [==============================] - 25s 43ms/step - loss: 646.5575 - val_loss: 623.2652\n"
          ]
        }
      ]
    },
    {
      "cell_type": "code",
      "source": [
        "##Step 4: Visualize the Results\n",
        "## if I change the loss function I may get better reslt but due to usage limits in Colab couldn't reconnect with my TPU, couldn't attempt change loss function.\n",
        "import matplotlib.pyplot as plt  # Import matplotlib library for creating visualizations\n",
        "\n",
        "# Define a function to visually compare original and reconstructed images.\n",
        "def display_reconstruction(model, images, num_images=10):\n",
        "    # Use the model to predict the reconstructed images from the input.\n",
        "    pred = model.predict(images[:num_images])\n",
        "\n",
        "    # Create a figure and a set of subplots. There are 2 rows: one for original images, one for reconstructions.\n",
        "    fig, axes = plt.subplots(2, num_images, figsize=(20, 4))\n",
        "\n",
        "    for i in range(num_images):  # Loop over the number of images to display\n",
        "        # Display the original images in the first row.\n",
        "        ax = axes[0, i]  # Access the subplot for the original image at position i\n",
        "        ax.imshow(images[i].reshape(32, 32, 3))  # Display the image, reshaping it to its original dimensions\n",
        "        ax.title.set_text(\"Original\")  # Set the title of the subplot to \"Original\"\n",
        "        ax.axis('off')  # Turn off the axis to make the image cleaner\n",
        "\n",
        "        # Display the reconstructed images in the second row.\n",
        "        ax = axes[1, i]  # Access the subplot for the reconstructed image at position i\n",
        "        ax.imshow(pred[i].reshape(32, 32, 3))  # Display the reconstructed image, reshaping it as necessary\n",
        "        ax.title.set_text(\"Reconstructed\")  # Set the title of the subplot to \"Reconstructed\"\n",
        "        ax.axis('off')  # Turn off the axis to make the image cleaner\n",
        "\n",
        "    plt.show()  # Display the figure with the original and reconstructed images\n",
        "\n",
        "# Load the best model (with the largest latent dimension) that you have saved previously.\n",
        "vae = models.load_model('vae_model_dim_10.h5')\n",
        "\n",
        "# Use the display function to show how well the model reconstructs images from the test set.\n",
        "display_reconstruction(vae, x_test)  # x_test are the input images that the model will attempt to reconstruct\n"
      ],
      "metadata": {
        "id": "YpvE7__w_5uc",
        "colab": {
          "base_uri": "https://localhost:8080/",
          "height": 311
        },
        "outputId": "a63ad4f1-5c9a-47f1-bdc2-3cc34a13da97"
      },
      "execution_count": 31,
      "outputs": [
        {
          "output_type": "stream",
          "name": "stdout",
          "text": [
            "1/1 [==============================] - 0s 198ms/step\n"
          ]
        },
        {
          "output_type": "display_data",
          "data": {
            "text/plain": [
              "<Figure size 2000x400 with 20 Axes>"
            ],
            "image/png": "[encoded data removed]"
          },
          "metadata": {}
        }
      ]
    },
    {
      "cell_type": "markdown",
      "source": [
        "# Discussion:\n",
        "\n",
        "Clarity:\n",
        "\n",
        "\n",
        "The reconstructed images seem a bit blurry. The model’s ability to reduce the loss over time suggests that it was getting better at reconstructing images. However, the end loss values are still relatively high that is why the reconstructed images appear blurry.If I change the loss function I may get better reslt but due to usage limits in Colab couldn't reconnect with my TPU, couldn't attempt change loss function.\n",
        "\n",
        "\n",
        "Distortion:\n",
        "\n",
        "\n",
        "Although the loss was reducing, the still significant gap between training and validation losses by the 50th epoch (about 20 units difference) hints that the model might be distorting finer details or specific characteristics of some digits.\n",
        "\n",
        "Variability:\n",
        "\n",
        "\n",
        "The relatively slower reduction in validation loss compared to training loss suggests the model might not be handling the dataset's variability consistently.\n",
        "\n",
        "Generalization:\n",
        "\n",
        "While the validation loss improved noticeably, it remained markedly higher than the training loss throughout the training process. It's clear that my model has started to understand the training data; however, it hasn't fully grasped the underlying distribution effectively enough to generalize well to unseen data.\n",
        "\n"
      ],
      "metadata": {
        "id": "kTAeyLdK1Xez"
      }
    }
  ]
}